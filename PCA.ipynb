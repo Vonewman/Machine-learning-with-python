{
  "nbformat": 4,
  "nbformat_minor": 0,
  "metadata": {
    "colab": {
      "provenance": [],
      "authorship_tag": "ABX9TyNeDNCAXMHch5fyqd9mxVBN",
      "include_colab_link": true
    },
    "kernelspec": {
      "name": "python3",
      "display_name": "Python 3"
    },
    "language_info": {
      "name": "python"
    }
  },
  "cells": [
    {
      "cell_type": "markdown",
      "metadata": {
        "id": "view-in-github",
        "colab_type": "text"
      },
      "source": [
        "<a href=\"https://colab.research.google.com/github/Vonewman/Machine-learning-with-python/blob/main/PCA.ipynb\" target=\"_parent\"><img src=\"https://colab.research.google.com/assets/colab-badge.svg\" alt=\"Open In Colab\"/></a>"
      ]
    },
    {
      "cell_type": "markdown",
      "source": [
        "### Utility function"
      ],
      "metadata": {
        "id": "Ww0aOgEY5k55"
      }
    },
    {
      "cell_type": "code",
      "execution_count": 1,
      "metadata": {
        "id": "SXOEvsa45Se4"
      },
      "outputs": [],
      "source": [
        "# Library of Functions for the OpenClassrooms Multivariate Exploratory Data Analysis Course\n",
        "\n",
        "import matplotlib.pyplot as plt\n",
        "from matplotlib.collections import LineCollection\n",
        "import numpy as np\n",
        "import pandas as pd\n",
        "from scipy.cluster.hierarchy import dendrogram\n",
        "from pandas.plotting import parallel_coordinates\n",
        "import seaborn as sns\n",
        "\n",
        "\n",
        "palette = sns.color_palette(\"bright\", 10)\n",
        "\n",
        "def display_circles(pcs, n_comp, pca, axis_ranks, labels=None, label_rotation=0, lims=None):\n",
        "    \"\"\"Display correlation circles, one for each factorial plane\"\"\"\n",
        "\n",
        "    # For each factorial plane\n",
        "    for d1, d2 in axis_ranks: \n",
        "        if d2 < n_comp:\n",
        "\n",
        "            # Initialise the matplotlib figure\n",
        "            fig, ax = plt.subplots(figsize=(10,10))\n",
        "\n",
        "            # Determine the limits of the chart\n",
        "            if lims is not None :\n",
        "                xmin, xmax, ymin, ymax = lims\n",
        "            elif pcs.shape[1] < 30 :\n",
        "                xmin, xmax, ymin, ymax = -1, 1, -1, 1\n",
        "            else :\n",
        "                xmin, xmax, ymin, ymax = min(pcs[d1,:]), max(pcs[d1,:]), min(pcs[d2,:]), max(pcs[d2,:])\n",
        "\n",
        "            # Add arrows\n",
        "            # If there are more than 30 arrows, we do not display the triangle at the end\n",
        "            if pcs.shape[1] < 30 :\n",
        "                plt.quiver(np.zeros(pcs.shape[1]), np.zeros(pcs.shape[1]),\n",
        "                   pcs[d1,:], pcs[d2,:], \n",
        "                   angles='xy', scale_units='xy', scale=1, color=\"grey\")\n",
        "                # (see the doc : https://matplotlib.org/api/_as_gen/matplotlib.pyplot.quiver.html)\n",
        "            else:\n",
        "                lines = [[[0,0],[x,y]] for x,y in pcs[[d1,d2]].T]\n",
        "                ax.add_collection(LineCollection(lines, axes=ax, alpha=.1, color='black'))\n",
        "            \n",
        "            # Display variable names\n",
        "            if labels is not None:  \n",
        "                for i,(x, y) in enumerate(pcs[[d1,d2]].T):\n",
        "                    if x >= xmin and x <= xmax and y >= ymin and y <= ymax :\n",
        "                        plt.text(x, y, labels[i], fontsize='14', ha='center', va='center', rotation=label_rotation, color=\"blue\", alpha=0.5)\n",
        "            \n",
        "            # Display circle\n",
        "            circle = plt.Circle((0,0), 1, facecolor='none', edgecolor='b')\n",
        "            plt.gca().add_artist(circle)\n",
        "\n",
        "            # Define the limits of the chart\n",
        "            plt.xlim(xmin, xmax)\n",
        "            plt.ylim(ymin, ymax)\n",
        "        \n",
        "            # Display grid lines\n",
        "            plt.plot([-1, 1], [0, 0], color='grey', ls='--')\n",
        "            plt.plot([0, 0], [-1, 1], color='grey', ls='--')\n",
        "\n",
        "            # Label the axes, with the percentage of variance explained\n",
        "            plt.xlabel('PC{} ({}%)'.format(d1+1, round(100*pca.explained_variance_ratio_[d1],1)))\n",
        "            plt.ylabel('PC{} ({}%)'.format(d2+1, round(100*pca.explained_variance_ratio_[d2],1)))\n",
        "\n",
        "            plt.title(\"Correlation Circle (PC{} and PC{})\".format(d1+1, d2+1))\n",
        "            plt.show(block=False)\n",
        "        \n",
        "def display_factorial_planes(X_projected, n_comp, pca, axis_ranks, labels=None, alpha=1, illustrative_var=None):\n",
        "    '''Display a scatter plot on a factorial plane, one for each factorial plane'''\n",
        "\n",
        "    # For each factorial plane\n",
        "    for d1,d2 in axis_ranks:\n",
        "        if d2 < n_comp:\n",
        " \n",
        "            # Initialise the matplotlib figure      \n",
        "            fig = plt.figure(figsize=(7,6))\n",
        "        \n",
        "            # Display the points\n",
        "            if illustrative_var is None:\n",
        "                plt.scatter(X_projected[:, d1], X_projected[:, d2], alpha=alpha)\n",
        "            else:\n",
        "                illustrative_var = np.array(illustrative_var)\n",
        "                for value in np.unique(illustrative_var):\n",
        "                    selected = np.where(illustrative_var == value)\n",
        "                    plt.scatter(X_projected[selected, d1], X_projected[selected, d2], alpha=alpha, label=value)\n",
        "                plt.legend()\n",
        "\n",
        "            # Display the labels on the points\n",
        "            if labels is not None:\n",
        "                for i,(x,y) in enumerate(X_projected[:,[d1,d2]]):\n",
        "                    plt.text(x, y, labels[i],\n",
        "                              fontsize='14', ha='center',va='center') \n",
        "                \n",
        "            # Define the limits of the chart\n",
        "            boundary = np.max(np.abs(X_projected[:, [d1,d2]])) * 1.1\n",
        "            plt.xlim([-boundary,boundary])\n",
        "            plt.ylim([-boundary,boundary])\n",
        "        \n",
        "            # Display grid lines\n",
        "            plt.plot([-100, 100], [0, 0], color='grey', ls='--')\n",
        "            plt.plot([0, 0], [-100, 100], color='grey', ls='--')\n",
        "\n",
        "            # Label the axes, with the percentage of variance explained\n",
        "            plt.xlabel('PC{} ({}%)'.format(d1+1, round(100*pca.explained_variance_ratio_[d1],1)))\n",
        "            plt.ylabel('PC{} ({}%)'.format(d2+1, round(100*pca.explained_variance_ratio_[d2],1)))\n",
        "\n",
        "            plt.title(\"Projection of points (on PC{} and PC{})\".format(d1+1, d2+1))\n",
        "            #plt.show(block=False)\n",
        "   \n",
        "def display_scree_plot(pca):\n",
        "    '''Display a scree plot for the pca'''\n",
        "\n",
        "    scree = pca.explained_variance_ratio_*100\n",
        "    plt.bar(np.arange(len(scree))+1, scree)\n",
        "    plt.plot(np.arange(len(scree))+1, scree.cumsum(),c=\"red\",marker='o')\n",
        "    plt.xlabel(\"Number of principal components\")\n",
        "    plt.ylabel(\"Percentage explained variance\")\n",
        "    plt.title(\"Scree plot\")\n",
        "    plt.show(block=False)\n",
        "\n",
        "def append_class(df, class_name, feature, thresholds, names):\n",
        "    '''Append a new class feature named 'class_name' based on a threshold split of 'feature'.  Threshold values are in 'thresholds' and class names are in 'names'.'''\n",
        "    \n",
        "    n = pd.cut(df[feature], bins = thresholds, labels=names)\n",
        "    df[class_name] = n\n",
        "\n",
        "def plot_dendrogram(Z, names, figsize=(10,25)):\n",
        "    '''Plot a dendrogram to illustrate hierarchical clustering'''\n",
        "\n",
        "    plt.figure(figsize=figsize)\n",
        "    plt.title('Hierarchical Clustering Dendrogram')\n",
        "    plt.xlabel('distance')\n",
        "    dendrogram(\n",
        "        Z,\n",
        "        labels = names,\n",
        "        orientation = \"left\",\n",
        "    )\n",
        "    #plt.show()\n",
        "\n",
        "def addAlpha(colour, alpha):\n",
        "    '''Add an alpha to the RGB colour'''\n",
        "    \n",
        "    return (colour[0],colour[1],colour[2],alpha)\n",
        "\n",
        "def display_parallel_coordinates(df, num_clusters):\n",
        "    '''Display a parallel coordinates plot for the clusters in df'''\n",
        "\n",
        "    # Select data points for individual clusters\n",
        "    cluster_points = []\n",
        "    for i in range(num_clusters):\n",
        "        cluster_points.append(df[df.cluster==i])\n",
        "    \n",
        "    # Create the plot\n",
        "    fig = plt.figure(figsize=(12, 15))\n",
        "    title = fig.suptitle(\"Parallel Coordinates Plot for the Clusters\", fontsize=18)\n",
        "    fig.subplots_adjust(top=0.95, wspace=0)\n",
        "\n",
        "    # Display one plot for each cluster, with the lines for the main cluster appearing over the lines for the other clusters\n",
        "    for i in range(num_clusters):    \n",
        "        plt.subplot(num_clusters, 1, i+1)\n",
        "        for j,c in enumerate(cluster_points): \n",
        "            if i!= j:\n",
        "                pc = parallel_coordinates(c, 'cluster', color=[addAlpha(palette[j],0.2)])\n",
        "        pc = parallel_coordinates(cluster_points[i], 'cluster', color=[addAlpha(palette[i],0.5)])\n",
        "\n",
        "        # Stagger the axes\n",
        "        ax=plt.gca()\n",
        "        for tick in ax.xaxis.get_major_ticks()[1::2]:\n",
        "            tick.set_pad(20)        \n",
        "\n",
        "\n",
        "def display_parallel_coordinates_centroids(df, num_clusters):\n",
        "    '''Display a parallel coordinates plot for the centroids in df'''\n",
        "\n",
        "    # Create the plot\n",
        "    fig = plt.figure(figsize=(12, 5))\n",
        "    title = fig.suptitle(\"Parallel Coordinates plot for the Centroids\", fontsize=18)\n",
        "    fig.subplots_adjust(top=0.9, wspace=0)\n",
        "\n",
        "    # Draw the chart\n",
        "    parallel_coordinates(df, 'cluster', color=palette)\n",
        "\n",
        "    # Stagger the axes\n",
        "    ax=plt.gca()\n",
        "    for tick in ax.xaxis.get_major_ticks()[1::2]:\n",
        "        tick.set_pad(20)    "
      ]
    },
    {
      "cell_type": "code",
      "source": [
        "import pandas as pd\n",
        "import numpy as np"
      ],
      "metadata": {
        "id": "_GJDFV7l5z8b"
      },
      "execution_count": 2,
      "outputs": []
    },
    {
      "cell_type": "code",
      "source": [
        "# Load the data from the csv file into a Pandas Dataframe\n",
        "original_data = pd.read_csv('world_university_rankings_2016.csv', \n",
        "                            index_col='university_name')\n",
        "original_data.head()"
      ],
      "metadata": {
        "colab": {
          "base_uri": "https://localhost:8080/",
          "height": 492
        },
        "id": "BQuDSvK86AdT",
        "outputId": "6deb023f-2f17-4b20-cd12-2b2d7382742d"
      },
      "execution_count": 3,
      "outputs": [
        {
          "output_type": "execute_result",
          "data": {
            "text/plain": [
              "                                       world_rank                   country  \\\n",
              "university_name                                                               \n",
              "California Institute of Technology              1  United States of America   \n",
              "University of Oxford                            2            United Kingdom   \n",
              "Stanford University                             3  United States of America   \n",
              "University of Cambridge                         4            United Kingdom   \n",
              "Massachusetts Institute of Technology           5  United States of America   \n",
              "\n",
              "                                       teaching  international  research  \\\n",
              "university_name                                                            \n",
              "California Institute of Technology         95.6           64.0      97.6   \n",
              "University of Oxford                       86.5           94.4      98.9   \n",
              "Stanford University                        92.5           76.3      96.2   \n",
              "University of Cambridge                    88.2           91.5      96.7   \n",
              "Massachusetts Institute of Technology      89.4           84.0      88.6   \n",
              "\n",
              "                                       citations  income  total_score  \\\n",
              "university_name                                                         \n",
              "California Institute of Technology          99.8    97.8         95.2   \n",
              "University of Oxford                        98.8    73.1         94.2   \n",
              "Stanford University                         99.9    63.3         93.9   \n",
              "University of Cambridge                     97.0    55.0         92.8   \n",
              "Massachusetts Institute of Technology       99.7    95.4         92.0   \n",
              "\n",
              "                                       num_students  student_staff_ratio  \\\n",
              "university_name                                                            \n",
              "California Institute of Technology           2243.0                  6.9   \n",
              "University of Oxford                        19919.0                 11.6   \n",
              "Stanford University                         15596.0                  7.8   \n",
              "University of Cambridge                     18812.0                 11.8   \n",
              "Massachusetts Institute of Technology       11074.0                  9.0   \n",
              "\n",
              "                                       international%  female%  male%  \n",
              "university_name                                                        \n",
              "California Institute of Technology               27.0     33.0   67.0  \n",
              "University of Oxford                             34.0     46.0   54.0  \n",
              "Stanford University                              22.0     42.0   58.0  \n",
              "University of Cambridge                          34.0     46.0   54.0  \n",
              "Massachusetts Institute of Technology            33.0     37.0   63.0  "
            ],
            "text/html": [
              "\n",
              "  <div id=\"df-7106a940-5809-4de7-b271-ba15192c2483\">\n",
              "    <div class=\"colab-df-container\">\n",
              "      <div>\n",
              "<style scoped>\n",
              "    .dataframe tbody tr th:only-of-type {\n",
              "        vertical-align: middle;\n",
              "    }\n",
              "\n",
              "    .dataframe tbody tr th {\n",
              "        vertical-align: top;\n",
              "    }\n",
              "\n",
              "    .dataframe thead th {\n",
              "        text-align: right;\n",
              "    }\n",
              "</style>\n",
              "<table border=\"1\" class=\"dataframe\">\n",
              "  <thead>\n",
              "    <tr style=\"text-align: right;\">\n",
              "      <th></th>\n",
              "      <th>world_rank</th>\n",
              "      <th>country</th>\n",
              "      <th>teaching</th>\n",
              "      <th>international</th>\n",
              "      <th>research</th>\n",
              "      <th>citations</th>\n",
              "      <th>income</th>\n",
              "      <th>total_score</th>\n",
              "      <th>num_students</th>\n",
              "      <th>student_staff_ratio</th>\n",
              "      <th>international%</th>\n",
              "      <th>female%</th>\n",
              "      <th>male%</th>\n",
              "    </tr>\n",
              "    <tr>\n",
              "      <th>university_name</th>\n",
              "      <th></th>\n",
              "      <th></th>\n",
              "      <th></th>\n",
              "      <th></th>\n",
              "      <th></th>\n",
              "      <th></th>\n",
              "      <th></th>\n",
              "      <th></th>\n",
              "      <th></th>\n",
              "      <th></th>\n",
              "      <th></th>\n",
              "      <th></th>\n",
              "      <th></th>\n",
              "    </tr>\n",
              "  </thead>\n",
              "  <tbody>\n",
              "    <tr>\n",
              "      <th>California Institute of Technology</th>\n",
              "      <td>1</td>\n",
              "      <td>United States of America</td>\n",
              "      <td>95.6</td>\n",
              "      <td>64.0</td>\n",
              "      <td>97.6</td>\n",
              "      <td>99.8</td>\n",
              "      <td>97.8</td>\n",
              "      <td>95.2</td>\n",
              "      <td>2243.0</td>\n",
              "      <td>6.9</td>\n",
              "      <td>27.0</td>\n",
              "      <td>33.0</td>\n",
              "      <td>67.0</td>\n",
              "    </tr>\n",
              "    <tr>\n",
              "      <th>University of Oxford</th>\n",
              "      <td>2</td>\n",
              "      <td>United Kingdom</td>\n",
              "      <td>86.5</td>\n",
              "      <td>94.4</td>\n",
              "      <td>98.9</td>\n",
              "      <td>98.8</td>\n",
              "      <td>73.1</td>\n",
              "      <td>94.2</td>\n",
              "      <td>19919.0</td>\n",
              "      <td>11.6</td>\n",
              "      <td>34.0</td>\n",
              "      <td>46.0</td>\n",
              "      <td>54.0</td>\n",
              "    </tr>\n",
              "    <tr>\n",
              "      <th>Stanford University</th>\n",
              "      <td>3</td>\n",
              "      <td>United States of America</td>\n",
              "      <td>92.5</td>\n",
              "      <td>76.3</td>\n",
              "      <td>96.2</td>\n",
              "      <td>99.9</td>\n",
              "      <td>63.3</td>\n",
              "      <td>93.9</td>\n",
              "      <td>15596.0</td>\n",
              "      <td>7.8</td>\n",
              "      <td>22.0</td>\n",
              "      <td>42.0</td>\n",
              "      <td>58.0</td>\n",
              "    </tr>\n",
              "    <tr>\n",
              "      <th>University of Cambridge</th>\n",
              "      <td>4</td>\n",
              "      <td>United Kingdom</td>\n",
              "      <td>88.2</td>\n",
              "      <td>91.5</td>\n",
              "      <td>96.7</td>\n",
              "      <td>97.0</td>\n",
              "      <td>55.0</td>\n",
              "      <td>92.8</td>\n",
              "      <td>18812.0</td>\n",
              "      <td>11.8</td>\n",
              "      <td>34.0</td>\n",
              "      <td>46.0</td>\n",
              "      <td>54.0</td>\n",
              "    </tr>\n",
              "    <tr>\n",
              "      <th>Massachusetts Institute of Technology</th>\n",
              "      <td>5</td>\n",
              "      <td>United States of America</td>\n",
              "      <td>89.4</td>\n",
              "      <td>84.0</td>\n",
              "      <td>88.6</td>\n",
              "      <td>99.7</td>\n",
              "      <td>95.4</td>\n",
              "      <td>92.0</td>\n",
              "      <td>11074.0</td>\n",
              "      <td>9.0</td>\n",
              "      <td>33.0</td>\n",
              "      <td>37.0</td>\n",
              "      <td>63.0</td>\n",
              "    </tr>\n",
              "  </tbody>\n",
              "</table>\n",
              "</div>\n",
              "      <button class=\"colab-df-convert\" onclick=\"convertToInteractive('df-7106a940-5809-4de7-b271-ba15192c2483')\"\n",
              "              title=\"Convert this dataframe to an interactive table.\"\n",
              "              style=\"display:none;\">\n",
              "        \n",
              "  <svg xmlns=\"http://www.w3.org/2000/svg\" height=\"24px\"viewBox=\"0 0 24 24\"\n",
              "       width=\"24px\">\n",
              "    <path d=\"M0 0h24v24H0V0z\" fill=\"none\"/>\n",
              "    <path d=\"M18.56 5.44l.94 2.06.94-2.06 2.06-.94-2.06-.94-.94-2.06-.94 2.06-2.06.94zm-11 1L8.5 8.5l.94-2.06 2.06-.94-2.06-.94L8.5 2.5l-.94 2.06-2.06.94zm10 10l.94 2.06.94-2.06 2.06-.94-2.06-.94-.94-2.06-.94 2.06-2.06.94z\"/><path d=\"M17.41 7.96l-1.37-1.37c-.4-.4-.92-.59-1.43-.59-.52 0-1.04.2-1.43.59L10.3 9.45l-7.72 7.72c-.78.78-.78 2.05 0 2.83L4 21.41c.39.39.9.59 1.41.59.51 0 1.02-.2 1.41-.59l7.78-7.78 2.81-2.81c.8-.78.8-2.07 0-2.86zM5.41 20L4 18.59l7.72-7.72 1.47 1.35L5.41 20z\"/>\n",
              "  </svg>\n",
              "      </button>\n",
              "      \n",
              "  <style>\n",
              "    .colab-df-container {\n",
              "      display:flex;\n",
              "      flex-wrap:wrap;\n",
              "      gap: 12px;\n",
              "    }\n",
              "\n",
              "    .colab-df-convert {\n",
              "      background-color: #E8F0FE;\n",
              "      border: none;\n",
              "      border-radius: 50%;\n",
              "      cursor: pointer;\n",
              "      display: none;\n",
              "      fill: #1967D2;\n",
              "      height: 32px;\n",
              "      padding: 0 0 0 0;\n",
              "      width: 32px;\n",
              "    }\n",
              "\n",
              "    .colab-df-convert:hover {\n",
              "      background-color: #E2EBFA;\n",
              "      box-shadow: 0px 1px 2px rgba(60, 64, 67, 0.3), 0px 1px 3px 1px rgba(60, 64, 67, 0.15);\n",
              "      fill: #174EA6;\n",
              "    }\n",
              "\n",
              "    [theme=dark] .colab-df-convert {\n",
              "      background-color: #3B4455;\n",
              "      fill: #D2E3FC;\n",
              "    }\n",
              "\n",
              "    [theme=dark] .colab-df-convert:hover {\n",
              "      background-color: #434B5C;\n",
              "      box-shadow: 0px 1px 3px 1px rgba(0, 0, 0, 0.15);\n",
              "      filter: drop-shadow(0px 1px 2px rgba(0, 0, 0, 0.3));\n",
              "      fill: #FFFFFF;\n",
              "    }\n",
              "  </style>\n",
              "\n",
              "      <script>\n",
              "        const buttonEl =\n",
              "          document.querySelector('#df-7106a940-5809-4de7-b271-ba15192c2483 button.colab-df-convert');\n",
              "        buttonEl.style.display =\n",
              "          google.colab.kernel.accessAllowed ? 'block' : 'none';\n",
              "\n",
              "        async function convertToInteractive(key) {\n",
              "          const element = document.querySelector('#df-7106a940-5809-4de7-b271-ba15192c2483');\n",
              "          const dataTable =\n",
              "            await google.colab.kernel.invokeFunction('convertToInteractive',\n",
              "                                                     [key], {});\n",
              "          if (!dataTable) return;\n",
              "\n",
              "          const docLinkHtml = 'Like what you see? Visit the ' +\n",
              "            '<a target=\"_blank\" href=https://colab.research.google.com/notebooks/data_table.ipynb>data table notebook</a>'\n",
              "            + ' to learn more about interactive tables.';\n",
              "          element.innerHTML = '';\n",
              "          dataTable['output_type'] = 'display_data';\n",
              "          await google.colab.output.renderOutput(dataTable, element);\n",
              "          const docLink = document.createElement('div');\n",
              "          docLink.innerHTML = docLinkHtml;\n",
              "          element.appendChild(docLink);\n",
              "        }\n",
              "      </script>\n",
              "    </div>\n",
              "  </div>\n",
              "  "
            ]
          },
          "metadata": {},
          "execution_count": 3
        }
      ]
    },
    {
      "cell_type": "code",
      "source": [
        "original_data.columns"
      ],
      "metadata": {
        "colab": {
          "base_uri": "https://localhost:8080/"
        },
        "id": "rlY1sXW-61rT",
        "outputId": "1b3aa56b-16b3-4c65-b23b-b19129d7e3db"
      },
      "execution_count": 4,
      "outputs": [
        {
          "output_type": "execute_result",
          "data": {
            "text/plain": [
              "Index(['world_rank', 'country', 'teaching', 'international', 'research',\n",
              "       'citations', 'income', 'total_score', 'num_students',\n",
              "       'student_staff_ratio', 'international%', 'female%', 'male%'],\n",
              "      dtype='object')"
            ]
          },
          "metadata": {},
          "execution_count": 4
        }
      ]
    },
    {
      "cell_type": "code",
      "source": [
        "X = original_data[['teaching', 'international', 'research', \n",
        "       'citations', 'income', 'num_students', 'international%',\n",
        "       'student_staff_ratio', 'female%', 'male%']]\n",
        "\n",
        "X.head()"
      ],
      "metadata": {
        "colab": {
          "base_uri": "https://localhost:8080/",
          "height": 422
        },
        "id": "diSo21YG6Ext",
        "outputId": "7bd385e8-777e-4cb2-efd0-aa91a80e2f8c"
      },
      "execution_count": 5,
      "outputs": [
        {
          "output_type": "execute_result",
          "data": {
            "text/plain": [
              "                                       teaching  international  research  \\\n",
              "university_name                                                            \n",
              "California Institute of Technology         95.6           64.0      97.6   \n",
              "University of Oxford                       86.5           94.4      98.9   \n",
              "Stanford University                        92.5           76.3      96.2   \n",
              "University of Cambridge                    88.2           91.5      96.7   \n",
              "Massachusetts Institute of Technology      89.4           84.0      88.6   \n",
              "\n",
              "                                       citations  income  num_students  \\\n",
              "university_name                                                          \n",
              "California Institute of Technology          99.8    97.8        2243.0   \n",
              "University of Oxford                        98.8    73.1       19919.0   \n",
              "Stanford University                         99.9    63.3       15596.0   \n",
              "University of Cambridge                     97.0    55.0       18812.0   \n",
              "Massachusetts Institute of Technology       99.7    95.4       11074.0   \n",
              "\n",
              "                                       international%  student_staff_ratio  \\\n",
              "university_name                                                              \n",
              "California Institute of Technology               27.0                  6.9   \n",
              "University of Oxford                             34.0                 11.6   \n",
              "Stanford University                              22.0                  7.8   \n",
              "University of Cambridge                          34.0                 11.8   \n",
              "Massachusetts Institute of Technology            33.0                  9.0   \n",
              "\n",
              "                                       female%  male%  \n",
              "university_name                                        \n",
              "California Institute of Technology        33.0   67.0  \n",
              "University of Oxford                      46.0   54.0  \n",
              "Stanford University                       42.0   58.0  \n",
              "University of Cambridge                   46.0   54.0  \n",
              "Massachusetts Institute of Technology     37.0   63.0  "
            ],
            "text/html": [
              "\n",
              "  <div id=\"df-8506a1ba-30a5-49dd-bb9b-946759431fd7\">\n",
              "    <div class=\"colab-df-container\">\n",
              "      <div>\n",
              "<style scoped>\n",
              "    .dataframe tbody tr th:only-of-type {\n",
              "        vertical-align: middle;\n",
              "    }\n",
              "\n",
              "    .dataframe tbody tr th {\n",
              "        vertical-align: top;\n",
              "    }\n",
              "\n",
              "    .dataframe thead th {\n",
              "        text-align: right;\n",
              "    }\n",
              "</style>\n",
              "<table border=\"1\" class=\"dataframe\">\n",
              "  <thead>\n",
              "    <tr style=\"text-align: right;\">\n",
              "      <th></th>\n",
              "      <th>teaching</th>\n",
              "      <th>international</th>\n",
              "      <th>research</th>\n",
              "      <th>citations</th>\n",
              "      <th>income</th>\n",
              "      <th>num_students</th>\n",
              "      <th>international%</th>\n",
              "      <th>student_staff_ratio</th>\n",
              "      <th>female%</th>\n",
              "      <th>male%</th>\n",
              "    </tr>\n",
              "    <tr>\n",
              "      <th>university_name</th>\n",
              "      <th></th>\n",
              "      <th></th>\n",
              "      <th></th>\n",
              "      <th></th>\n",
              "      <th></th>\n",
              "      <th></th>\n",
              "      <th></th>\n",
              "      <th></th>\n",
              "      <th></th>\n",
              "      <th></th>\n",
              "    </tr>\n",
              "  </thead>\n",
              "  <tbody>\n",
              "    <tr>\n",
              "      <th>California Institute of Technology</th>\n",
              "      <td>95.6</td>\n",
              "      <td>64.0</td>\n",
              "      <td>97.6</td>\n",
              "      <td>99.8</td>\n",
              "      <td>97.8</td>\n",
              "      <td>2243.0</td>\n",
              "      <td>27.0</td>\n",
              "      <td>6.9</td>\n",
              "      <td>33.0</td>\n",
              "      <td>67.0</td>\n",
              "    </tr>\n",
              "    <tr>\n",
              "      <th>University of Oxford</th>\n",
              "      <td>86.5</td>\n",
              "      <td>94.4</td>\n",
              "      <td>98.9</td>\n",
              "      <td>98.8</td>\n",
              "      <td>73.1</td>\n",
              "      <td>19919.0</td>\n",
              "      <td>34.0</td>\n",
              "      <td>11.6</td>\n",
              "      <td>46.0</td>\n",
              "      <td>54.0</td>\n",
              "    </tr>\n",
              "    <tr>\n",
              "      <th>Stanford University</th>\n",
              "      <td>92.5</td>\n",
              "      <td>76.3</td>\n",
              "      <td>96.2</td>\n",
              "      <td>99.9</td>\n",
              "      <td>63.3</td>\n",
              "      <td>15596.0</td>\n",
              "      <td>22.0</td>\n",
              "      <td>7.8</td>\n",
              "      <td>42.0</td>\n",
              "      <td>58.0</td>\n",
              "    </tr>\n",
              "    <tr>\n",
              "      <th>University of Cambridge</th>\n",
              "      <td>88.2</td>\n",
              "      <td>91.5</td>\n",
              "      <td>96.7</td>\n",
              "      <td>97.0</td>\n",
              "      <td>55.0</td>\n",
              "      <td>18812.0</td>\n",
              "      <td>34.0</td>\n",
              "      <td>11.8</td>\n",
              "      <td>46.0</td>\n",
              "      <td>54.0</td>\n",
              "    </tr>\n",
              "    <tr>\n",
              "      <th>Massachusetts Institute of Technology</th>\n",
              "      <td>89.4</td>\n",
              "      <td>84.0</td>\n",
              "      <td>88.6</td>\n",
              "      <td>99.7</td>\n",
              "      <td>95.4</td>\n",
              "      <td>11074.0</td>\n",
              "      <td>33.0</td>\n",
              "      <td>9.0</td>\n",
              "      <td>37.0</td>\n",
              "      <td>63.0</td>\n",
              "    </tr>\n",
              "  </tbody>\n",
              "</table>\n",
              "</div>\n",
              "      <button class=\"colab-df-convert\" onclick=\"convertToInteractive('df-8506a1ba-30a5-49dd-bb9b-946759431fd7')\"\n",
              "              title=\"Convert this dataframe to an interactive table.\"\n",
              "              style=\"display:none;\">\n",
              "        \n",
              "  <svg xmlns=\"http://www.w3.org/2000/svg\" height=\"24px\"viewBox=\"0 0 24 24\"\n",
              "       width=\"24px\">\n",
              "    <path d=\"M0 0h24v24H0V0z\" fill=\"none\"/>\n",
              "    <path d=\"M18.56 5.44l.94 2.06.94-2.06 2.06-.94-2.06-.94-.94-2.06-.94 2.06-2.06.94zm-11 1L8.5 8.5l.94-2.06 2.06-.94-2.06-.94L8.5 2.5l-.94 2.06-2.06.94zm10 10l.94 2.06.94-2.06 2.06-.94-2.06-.94-.94-2.06-.94 2.06-2.06.94z\"/><path d=\"M17.41 7.96l-1.37-1.37c-.4-.4-.92-.59-1.43-.59-.52 0-1.04.2-1.43.59L10.3 9.45l-7.72 7.72c-.78.78-.78 2.05 0 2.83L4 21.41c.39.39.9.59 1.41.59.51 0 1.02-.2 1.41-.59l7.78-7.78 2.81-2.81c.8-.78.8-2.07 0-2.86zM5.41 20L4 18.59l7.72-7.72 1.47 1.35L5.41 20z\"/>\n",
              "  </svg>\n",
              "      </button>\n",
              "      \n",
              "  <style>\n",
              "    .colab-df-container {\n",
              "      display:flex;\n",
              "      flex-wrap:wrap;\n",
              "      gap: 12px;\n",
              "    }\n",
              "\n",
              "    .colab-df-convert {\n",
              "      background-color: #E8F0FE;\n",
              "      border: none;\n",
              "      border-radius: 50%;\n",
              "      cursor: pointer;\n",
              "      display: none;\n",
              "      fill: #1967D2;\n",
              "      height: 32px;\n",
              "      padding: 0 0 0 0;\n",
              "      width: 32px;\n",
              "    }\n",
              "\n",
              "    .colab-df-convert:hover {\n",
              "      background-color: #E2EBFA;\n",
              "      box-shadow: 0px 1px 2px rgba(60, 64, 67, 0.3), 0px 1px 3px 1px rgba(60, 64, 67, 0.15);\n",
              "      fill: #174EA6;\n",
              "    }\n",
              "\n",
              "    [theme=dark] .colab-df-convert {\n",
              "      background-color: #3B4455;\n",
              "      fill: #D2E3FC;\n",
              "    }\n",
              "\n",
              "    [theme=dark] .colab-df-convert:hover {\n",
              "      background-color: #434B5C;\n",
              "      box-shadow: 0px 1px 3px 1px rgba(0, 0, 0, 0.15);\n",
              "      filter: drop-shadow(0px 1px 2px rgba(0, 0, 0, 0.3));\n",
              "      fill: #FFFFFF;\n",
              "    }\n",
              "  </style>\n",
              "\n",
              "      <script>\n",
              "        const buttonEl =\n",
              "          document.querySelector('#df-8506a1ba-30a5-49dd-bb9b-946759431fd7 button.colab-df-convert');\n",
              "        buttonEl.style.display =\n",
              "          google.colab.kernel.accessAllowed ? 'block' : 'none';\n",
              "\n",
              "        async function convertToInteractive(key) {\n",
              "          const element = document.querySelector('#df-8506a1ba-30a5-49dd-bb9b-946759431fd7');\n",
              "          const dataTable =\n",
              "            await google.colab.kernel.invokeFunction('convertToInteractive',\n",
              "                                                     [key], {});\n",
              "          if (!dataTable) return;\n",
              "\n",
              "          const docLinkHtml = 'Like what you see? Visit the ' +\n",
              "            '<a target=\"_blank\" href=https://colab.research.google.com/notebooks/data_table.ipynb>data table notebook</a>'\n",
              "            + ' to learn more about interactive tables.';\n",
              "          element.innerHTML = '';\n",
              "          dataTable['output_type'] = 'display_data';\n",
              "          await google.colab.output.renderOutput(dataTable, element);\n",
              "          const docLink = document.createElement('div');\n",
              "          docLink.innerHTML = docLinkHtml;\n",
              "          element.appendChild(docLink);\n",
              "        }\n",
              "      </script>\n",
              "    </div>\n",
              "  </div>\n",
              "  "
            ]
          },
          "metadata": {},
          "execution_count": 5
        }
      ]
    },
    {
      "cell_type": "code",
      "source": [
        "X.info()"
      ],
      "metadata": {
        "colab": {
          "base_uri": "https://localhost:8080/"
        },
        "id": "bZ6Z78oM60Z3",
        "outputId": "daaf53ee-6c8c-4fb5-af8c-17bdb70320f4"
      },
      "execution_count": 6,
      "outputs": [
        {
          "output_type": "stream",
          "name": "stdout",
          "text": [
            "<class 'pandas.core.frame.DataFrame'>\n",
            "Index: 800 entries, California Institute of Technology to Yuan Ze University\n",
            "Data columns (total 10 columns):\n",
            " #   Column               Non-Null Count  Dtype  \n",
            "---  ------               --------------  -----  \n",
            " 0   teaching             800 non-null    float64\n",
            " 1   international        800 non-null    float64\n",
            " 2   research             800 non-null    float64\n",
            " 3   citations            800 non-null    float64\n",
            " 4   income               763 non-null    float64\n",
            " 5   num_students         793 non-null    float64\n",
            " 6   international%       790 non-null    float64\n",
            " 7   student_staff_ratio  793 non-null    float64\n",
            " 8   female%              736 non-null    float64\n",
            " 9   male%                736 non-null    float64\n",
            "dtypes: float64(10)\n",
            "memory usage: 68.8+ KB\n"
          ]
        }
      ]
    },
    {
      "cell_type": "code",
      "source": [
        "X.isna().sum()"
      ],
      "metadata": {
        "colab": {
          "base_uri": "https://localhost:8080/"
        },
        "id": "Vlp_vfXG7obd",
        "outputId": "98e7f19a-820d-42a7-857a-8fe266127fd3"
      },
      "execution_count": 7,
      "outputs": [
        {
          "output_type": "execute_result",
          "data": {
            "text/plain": [
              "teaching                0\n",
              "international           0\n",
              "research                0\n",
              "citations               0\n",
              "income                 37\n",
              "num_students            7\n",
              "international%         10\n",
              "student_staff_ratio     7\n",
              "female%                64\n",
              "male%                  64\n",
              "dtype: int64"
            ]
          },
          "metadata": {},
          "execution_count": 7
        }
      ]
    },
    {
      "cell_type": "code",
      "source": [
        "X = X.fillna(X.mean())\n",
        "X.info()"
      ],
      "metadata": {
        "colab": {
          "base_uri": "https://localhost:8080/"
        },
        "id": "lTkBAWkR7wU4",
        "outputId": "43f5ebe0-2394-4c6f-a78b-159d3f9a786d"
      },
      "execution_count": 8,
      "outputs": [
        {
          "output_type": "stream",
          "name": "stdout",
          "text": [
            "<class 'pandas.core.frame.DataFrame'>\n",
            "Index: 800 entries, California Institute of Technology to Yuan Ze University\n",
            "Data columns (total 10 columns):\n",
            " #   Column               Non-Null Count  Dtype  \n",
            "---  ------               --------------  -----  \n",
            " 0   teaching             800 non-null    float64\n",
            " 1   international        800 non-null    float64\n",
            " 2   research             800 non-null    float64\n",
            " 3   citations            800 non-null    float64\n",
            " 4   income               800 non-null    float64\n",
            " 5   num_students         800 non-null    float64\n",
            " 6   international%       800 non-null    float64\n",
            " 7   student_staff_ratio  800 non-null    float64\n",
            " 8   female%              800 non-null    float64\n",
            " 9   male%                800 non-null    float64\n",
            "dtypes: float64(10)\n",
            "memory usage: 68.8+ KB\n"
          ]
        }
      ]
    },
    {
      "cell_type": "markdown",
      "source": [
        "### Standardasing the data"
      ],
      "metadata": {
        "id": "uq4vtBJr8DAB"
      }
    },
    {
      "cell_type": "code",
      "source": [
        "X.describe()"
      ],
      "metadata": {
        "colab": {
          "base_uri": "https://localhost:8080/",
          "height": 364
        },
        "id": "3wCghifO75pl",
        "outputId": "47dcac8f-280b-4528-a97a-0f6196c7aff9"
      },
      "execution_count": 9,
      "outputs": [
        {
          "output_type": "execute_result",
          "data": {
            "text/plain": [
              "       teaching  international    research  citations      income  \\\n",
              "count  800.0000     800.000000  800.000000  800.00000  800.000000   \n",
              "mean    31.5840      48.500375   28.128625   51.30975   46.869594   \n",
              "std     14.9854      23.690816   19.532270   27.04544   20.094099   \n",
              "min      9.9000       7.100000    2.900000    1.20000   28.000000   \n",
              "25%     21.0000      29.450000   14.350000   27.52500   31.800000   \n",
              "50%     27.0000      45.700000   22.100000   50.30000   39.900000   \n",
              "75%     37.5000      65.450000   35.525000   74.90000   53.700000   \n",
              "max     95.6000      99.900000   99.000000  100.00000  100.000000   \n",
              "\n",
              "        num_students  international%  student_staff_ratio     female%  \\\n",
              "count     800.000000      800.000000           800.000000  800.000000   \n",
              "mean    24161.264817       12.702532            19.116393   49.538043   \n",
              "std     22470.143414       10.609056            12.467030   11.473152   \n",
              "min       462.000000        0.000000             0.600000    1.000000   \n",
              "25%     12344.000000        5.000000            12.300000   46.000000   \n",
              "50%     20307.000000       10.000000            16.850000   51.000000   \n",
              "75%     29640.500000       18.000000            22.225000   56.000000   \n",
              "max    379231.000000       82.000000           162.600000  100.000000   \n",
              "\n",
              "            male%  \n",
              "count  800.000000  \n",
              "mean    50.461957  \n",
              "std     11.473152  \n",
              "min      0.000000  \n",
              "25%     44.000000  \n",
              "50%     49.000000  \n",
              "75%     54.000000  \n",
              "max     99.000000  "
            ],
            "text/html": [
              "\n",
              "  <div id=\"df-dc779726-4e36-4da7-b569-bd02157b33f0\">\n",
              "    <div class=\"colab-df-container\">\n",
              "      <div>\n",
              "<style scoped>\n",
              "    .dataframe tbody tr th:only-of-type {\n",
              "        vertical-align: middle;\n",
              "    }\n",
              "\n",
              "    .dataframe tbody tr th {\n",
              "        vertical-align: top;\n",
              "    }\n",
              "\n",
              "    .dataframe thead th {\n",
              "        text-align: right;\n",
              "    }\n",
              "</style>\n",
              "<table border=\"1\" class=\"dataframe\">\n",
              "  <thead>\n",
              "    <tr style=\"text-align: right;\">\n",
              "      <th></th>\n",
              "      <th>teaching</th>\n",
              "      <th>international</th>\n",
              "      <th>research</th>\n",
              "      <th>citations</th>\n",
              "      <th>income</th>\n",
              "      <th>num_students</th>\n",
              "      <th>international%</th>\n",
              "      <th>student_staff_ratio</th>\n",
              "      <th>female%</th>\n",
              "      <th>male%</th>\n",
              "    </tr>\n",
              "  </thead>\n",
              "  <tbody>\n",
              "    <tr>\n",
              "      <th>count</th>\n",
              "      <td>800.0000</td>\n",
              "      <td>800.000000</td>\n",
              "      <td>800.000000</td>\n",
              "      <td>800.00000</td>\n",
              "      <td>800.000000</td>\n",
              "      <td>800.000000</td>\n",
              "      <td>800.000000</td>\n",
              "      <td>800.000000</td>\n",
              "      <td>800.000000</td>\n",
              "      <td>800.000000</td>\n",
              "    </tr>\n",
              "    <tr>\n",
              "      <th>mean</th>\n",
              "      <td>31.5840</td>\n",
              "      <td>48.500375</td>\n",
              "      <td>28.128625</td>\n",
              "      <td>51.30975</td>\n",
              "      <td>46.869594</td>\n",
              "      <td>24161.264817</td>\n",
              "      <td>12.702532</td>\n",
              "      <td>19.116393</td>\n",
              "      <td>49.538043</td>\n",
              "      <td>50.461957</td>\n",
              "    </tr>\n",
              "    <tr>\n",
              "      <th>std</th>\n",
              "      <td>14.9854</td>\n",
              "      <td>23.690816</td>\n",
              "      <td>19.532270</td>\n",
              "      <td>27.04544</td>\n",
              "      <td>20.094099</td>\n",
              "      <td>22470.143414</td>\n",
              "      <td>10.609056</td>\n",
              "      <td>12.467030</td>\n",
              "      <td>11.473152</td>\n",
              "      <td>11.473152</td>\n",
              "    </tr>\n",
              "    <tr>\n",
              "      <th>min</th>\n",
              "      <td>9.9000</td>\n",
              "      <td>7.100000</td>\n",
              "      <td>2.900000</td>\n",
              "      <td>1.20000</td>\n",
              "      <td>28.000000</td>\n",
              "      <td>462.000000</td>\n",
              "      <td>0.000000</td>\n",
              "      <td>0.600000</td>\n",
              "      <td>1.000000</td>\n",
              "      <td>0.000000</td>\n",
              "    </tr>\n",
              "    <tr>\n",
              "      <th>25%</th>\n",
              "      <td>21.0000</td>\n",
              "      <td>29.450000</td>\n",
              "      <td>14.350000</td>\n",
              "      <td>27.52500</td>\n",
              "      <td>31.800000</td>\n",
              "      <td>12344.000000</td>\n",
              "      <td>5.000000</td>\n",
              "      <td>12.300000</td>\n",
              "      <td>46.000000</td>\n",
              "      <td>44.000000</td>\n",
              "    </tr>\n",
              "    <tr>\n",
              "      <th>50%</th>\n",
              "      <td>27.0000</td>\n",
              "      <td>45.700000</td>\n",
              "      <td>22.100000</td>\n",
              "      <td>50.30000</td>\n",
              "      <td>39.900000</td>\n",
              "      <td>20307.000000</td>\n",
              "      <td>10.000000</td>\n",
              "      <td>16.850000</td>\n",
              "      <td>51.000000</td>\n",
              "      <td>49.000000</td>\n",
              "    </tr>\n",
              "    <tr>\n",
              "      <th>75%</th>\n",
              "      <td>37.5000</td>\n",
              "      <td>65.450000</td>\n",
              "      <td>35.525000</td>\n",
              "      <td>74.90000</td>\n",
              "      <td>53.700000</td>\n",
              "      <td>29640.500000</td>\n",
              "      <td>18.000000</td>\n",
              "      <td>22.225000</td>\n",
              "      <td>56.000000</td>\n",
              "      <td>54.000000</td>\n",
              "    </tr>\n",
              "    <tr>\n",
              "      <th>max</th>\n",
              "      <td>95.6000</td>\n",
              "      <td>99.900000</td>\n",
              "      <td>99.000000</td>\n",
              "      <td>100.00000</td>\n",
              "      <td>100.000000</td>\n",
              "      <td>379231.000000</td>\n",
              "      <td>82.000000</td>\n",
              "      <td>162.600000</td>\n",
              "      <td>100.000000</td>\n",
              "      <td>99.000000</td>\n",
              "    </tr>\n",
              "  </tbody>\n",
              "</table>\n",
              "</div>\n",
              "      <button class=\"colab-df-convert\" onclick=\"convertToInteractive('df-dc779726-4e36-4da7-b569-bd02157b33f0')\"\n",
              "              title=\"Convert this dataframe to an interactive table.\"\n",
              "              style=\"display:none;\">\n",
              "        \n",
              "  <svg xmlns=\"http://www.w3.org/2000/svg\" height=\"24px\"viewBox=\"0 0 24 24\"\n",
              "       width=\"24px\">\n",
              "    <path d=\"M0 0h24v24H0V0z\" fill=\"none\"/>\n",
              "    <path d=\"M18.56 5.44l.94 2.06.94-2.06 2.06-.94-2.06-.94-.94-2.06-.94 2.06-2.06.94zm-11 1L8.5 8.5l.94-2.06 2.06-.94-2.06-.94L8.5 2.5l-.94 2.06-2.06.94zm10 10l.94 2.06.94-2.06 2.06-.94-2.06-.94-.94-2.06-.94 2.06-2.06.94z\"/><path d=\"M17.41 7.96l-1.37-1.37c-.4-.4-.92-.59-1.43-.59-.52 0-1.04.2-1.43.59L10.3 9.45l-7.72 7.72c-.78.78-.78 2.05 0 2.83L4 21.41c.39.39.9.59 1.41.59.51 0 1.02-.2 1.41-.59l7.78-7.78 2.81-2.81c.8-.78.8-2.07 0-2.86zM5.41 20L4 18.59l7.72-7.72 1.47 1.35L5.41 20z\"/>\n",
              "  </svg>\n",
              "      </button>\n",
              "      \n",
              "  <style>\n",
              "    .colab-df-container {\n",
              "      display:flex;\n",
              "      flex-wrap:wrap;\n",
              "      gap: 12px;\n",
              "    }\n",
              "\n",
              "    .colab-df-convert {\n",
              "      background-color: #E8F0FE;\n",
              "      border: none;\n",
              "      border-radius: 50%;\n",
              "      cursor: pointer;\n",
              "      display: none;\n",
              "      fill: #1967D2;\n",
              "      height: 32px;\n",
              "      padding: 0 0 0 0;\n",
              "      width: 32px;\n",
              "    }\n",
              "\n",
              "    .colab-df-convert:hover {\n",
              "      background-color: #E2EBFA;\n",
              "      box-shadow: 0px 1px 2px rgba(60, 64, 67, 0.3), 0px 1px 3px 1px rgba(60, 64, 67, 0.15);\n",
              "      fill: #174EA6;\n",
              "    }\n",
              "\n",
              "    [theme=dark] .colab-df-convert {\n",
              "      background-color: #3B4455;\n",
              "      fill: #D2E3FC;\n",
              "    }\n",
              "\n",
              "    [theme=dark] .colab-df-convert:hover {\n",
              "      background-color: #434B5C;\n",
              "      box-shadow: 0px 1px 3px 1px rgba(0, 0, 0, 0.15);\n",
              "      filter: drop-shadow(0px 1px 2px rgba(0, 0, 0, 0.3));\n",
              "      fill: #FFFFFF;\n",
              "    }\n",
              "  </style>\n",
              "\n",
              "      <script>\n",
              "        const buttonEl =\n",
              "          document.querySelector('#df-dc779726-4e36-4da7-b569-bd02157b33f0 button.colab-df-convert');\n",
              "        buttonEl.style.display =\n",
              "          google.colab.kernel.accessAllowed ? 'block' : 'none';\n",
              "\n",
              "        async function convertToInteractive(key) {\n",
              "          const element = document.querySelector('#df-dc779726-4e36-4da7-b569-bd02157b33f0');\n",
              "          const dataTable =\n",
              "            await google.colab.kernel.invokeFunction('convertToInteractive',\n",
              "                                                     [key], {});\n",
              "          if (!dataTable) return;\n",
              "\n",
              "          const docLinkHtml = 'Like what you see? Visit the ' +\n",
              "            '<a target=\"_blank\" href=https://colab.research.google.com/notebooks/data_table.ipynb>data table notebook</a>'\n",
              "            + ' to learn more about interactive tables.';\n",
              "          element.innerHTML = '';\n",
              "          dataTable['output_type'] = 'display_data';\n",
              "          await google.colab.output.renderOutput(dataTable, element);\n",
              "          const docLink = document.createElement('div');\n",
              "          docLink.innerHTML = docLinkHtml;\n",
              "          element.appendChild(docLink);\n",
              "        }\n",
              "      </script>\n",
              "    </div>\n",
              "  </div>\n",
              "  "
            ]
          },
          "metadata": {},
          "execution_count": 9
        }
      ]
    },
    {
      "cell_type": "code",
      "source": [
        "from sklearn.preprocessing import StandardScaler\n",
        "\n",
        "scaler = StandardScaler()\n",
        "X_scaled = scaler.fit_transform(X)\n",
        "X_scaled"
      ],
      "metadata": {
        "colab": {
          "base_uri": "https://localhost:8080/"
        },
        "id": "uzcSKmZC7-qj",
        "outputId": "2cf60207-9c7e-4033-cfa1-5cb737dd06f4"
      },
      "execution_count": 10,
      "outputs": [
        {
          "output_type": "execute_result",
          "data": {
            "text/plain": [
              "array([[ 4.27456366,  0.65465542,  3.55897378, ..., -0.98050904,\n",
              "        -1.44235777,  1.44235777],\n",
              "       [ 3.66692605,  1.93865583,  3.62557194, ..., -0.60327885,\n",
              "        -0.30856882,  0.30856882],\n",
              "       [ 4.06756624,  1.17416874,  3.48725268, ..., -0.90827347,\n",
              "        -0.65742695,  0.65742695],\n",
              "       ...,\n",
              "       [-0.50640919, -1.36848995, -0.91847191, ..., -1.23734662,\n",
              "         0.        ,  0.        ],\n",
              "       [-0.76682531, -1.0643846 , -0.62134164, ..., -0.56314797,\n",
              "        -1.87843044,  1.87843044],\n",
              "       [-1.02724143, -1.30091099, -0.50351413, ...,  0.11907685,\n",
              "        -0.57021242,  0.57021242]])"
            ]
          },
          "metadata": {},
          "execution_count": 10
        }
      ]
    },
    {
      "cell_type": "code",
      "source": [
        "pd.DataFrame(X_scaled, columns=X.columns).describe().round(2)"
      ],
      "metadata": {
        "colab": {
          "base_uri": "https://localhost:8080/",
          "height": 364
        },
        "id": "VV9kAaHoRX9j",
        "outputId": "b8f0e0af-0355-412d-8dfa-f115a7372de6"
      },
      "execution_count": 11,
      "outputs": [
        {
          "output_type": "execute_result",
          "data": {
            "text/plain": [
              "       teaching  international  research  citations  income  num_students  \\\n",
              "count    800.00         800.00    800.00     800.00  800.00        800.00   \n",
              "mean       0.00          -0.00     -0.00      -0.00    0.00         -0.00   \n",
              "std        1.00           1.00      1.00       1.00    1.00          1.00   \n",
              "min       -1.45          -1.75     -1.29      -1.85   -0.94         -1.06   \n",
              "25%       -0.71          -0.80     -0.71      -0.88   -0.75         -0.53   \n",
              "50%       -0.31          -0.12     -0.31      -0.04   -0.35         -0.17   \n",
              "75%        0.40           0.72      0.38       0.87    0.34          0.24   \n",
              "max        4.27           2.17      3.63       1.80    2.65         15.81   \n",
              "\n",
              "       international%  student_staff_ratio  female%   male%  \n",
              "count          800.00               800.00   800.00  800.00  \n",
              "mean             0.00                -0.00     0.00   -0.00  \n",
              "std              1.00                 1.00     1.00    1.00  \n",
              "min             -1.20                -1.49    -4.23   -4.40  \n",
              "25%             -0.73                -0.55    -0.31   -0.56  \n",
              "50%             -0.25                -0.18     0.13   -0.13  \n",
              "75%              0.50                 0.25     0.56    0.31  \n",
              "max              6.54                11.52     4.40    4.23  "
            ],
            "text/html": [
              "\n",
              "  <div id=\"df-fdf6331a-509f-432d-9eb4-e83b2b7264b3\">\n",
              "    <div class=\"colab-df-container\">\n",
              "      <div>\n",
              "<style scoped>\n",
              "    .dataframe tbody tr th:only-of-type {\n",
              "        vertical-align: middle;\n",
              "    }\n",
              "\n",
              "    .dataframe tbody tr th {\n",
              "        vertical-align: top;\n",
              "    }\n",
              "\n",
              "    .dataframe thead th {\n",
              "        text-align: right;\n",
              "    }\n",
              "</style>\n",
              "<table border=\"1\" class=\"dataframe\">\n",
              "  <thead>\n",
              "    <tr style=\"text-align: right;\">\n",
              "      <th></th>\n",
              "      <th>teaching</th>\n",
              "      <th>international</th>\n",
              "      <th>research</th>\n",
              "      <th>citations</th>\n",
              "      <th>income</th>\n",
              "      <th>num_students</th>\n",
              "      <th>international%</th>\n",
              "      <th>student_staff_ratio</th>\n",
              "      <th>female%</th>\n",
              "      <th>male%</th>\n",
              "    </tr>\n",
              "  </thead>\n",
              "  <tbody>\n",
              "    <tr>\n",
              "      <th>count</th>\n",
              "      <td>800.00</td>\n",
              "      <td>800.00</td>\n",
              "      <td>800.00</td>\n",
              "      <td>800.00</td>\n",
              "      <td>800.00</td>\n",
              "      <td>800.00</td>\n",
              "      <td>800.00</td>\n",
              "      <td>800.00</td>\n",
              "      <td>800.00</td>\n",
              "      <td>800.00</td>\n",
              "    </tr>\n",
              "    <tr>\n",
              "      <th>mean</th>\n",
              "      <td>0.00</td>\n",
              "      <td>-0.00</td>\n",
              "      <td>-0.00</td>\n",
              "      <td>-0.00</td>\n",
              "      <td>0.00</td>\n",
              "      <td>-0.00</td>\n",
              "      <td>0.00</td>\n",
              "      <td>-0.00</td>\n",
              "      <td>0.00</td>\n",
              "      <td>-0.00</td>\n",
              "    </tr>\n",
              "    <tr>\n",
              "      <th>std</th>\n",
              "      <td>1.00</td>\n",
              "      <td>1.00</td>\n",
              "      <td>1.00</td>\n",
              "      <td>1.00</td>\n",
              "      <td>1.00</td>\n",
              "      <td>1.00</td>\n",
              "      <td>1.00</td>\n",
              "      <td>1.00</td>\n",
              "      <td>1.00</td>\n",
              "      <td>1.00</td>\n",
              "    </tr>\n",
              "    <tr>\n",
              "      <th>min</th>\n",
              "      <td>-1.45</td>\n",
              "      <td>-1.75</td>\n",
              "      <td>-1.29</td>\n",
              "      <td>-1.85</td>\n",
              "      <td>-0.94</td>\n",
              "      <td>-1.06</td>\n",
              "      <td>-1.20</td>\n",
              "      <td>-1.49</td>\n",
              "      <td>-4.23</td>\n",
              "      <td>-4.40</td>\n",
              "    </tr>\n",
              "    <tr>\n",
              "      <th>25%</th>\n",
              "      <td>-0.71</td>\n",
              "      <td>-0.80</td>\n",
              "      <td>-0.71</td>\n",
              "      <td>-0.88</td>\n",
              "      <td>-0.75</td>\n",
              "      <td>-0.53</td>\n",
              "      <td>-0.73</td>\n",
              "      <td>-0.55</td>\n",
              "      <td>-0.31</td>\n",
              "      <td>-0.56</td>\n",
              "    </tr>\n",
              "    <tr>\n",
              "      <th>50%</th>\n",
              "      <td>-0.31</td>\n",
              "      <td>-0.12</td>\n",
              "      <td>-0.31</td>\n",
              "      <td>-0.04</td>\n",
              "      <td>-0.35</td>\n",
              "      <td>-0.17</td>\n",
              "      <td>-0.25</td>\n",
              "      <td>-0.18</td>\n",
              "      <td>0.13</td>\n",
              "      <td>-0.13</td>\n",
              "    </tr>\n",
              "    <tr>\n",
              "      <th>75%</th>\n",
              "      <td>0.40</td>\n",
              "      <td>0.72</td>\n",
              "      <td>0.38</td>\n",
              "      <td>0.87</td>\n",
              "      <td>0.34</td>\n",
              "      <td>0.24</td>\n",
              "      <td>0.50</td>\n",
              "      <td>0.25</td>\n",
              "      <td>0.56</td>\n",
              "      <td>0.31</td>\n",
              "    </tr>\n",
              "    <tr>\n",
              "      <th>max</th>\n",
              "      <td>4.27</td>\n",
              "      <td>2.17</td>\n",
              "      <td>3.63</td>\n",
              "      <td>1.80</td>\n",
              "      <td>2.65</td>\n",
              "      <td>15.81</td>\n",
              "      <td>6.54</td>\n",
              "      <td>11.52</td>\n",
              "      <td>4.40</td>\n",
              "      <td>4.23</td>\n",
              "    </tr>\n",
              "  </tbody>\n",
              "</table>\n",
              "</div>\n",
              "      <button class=\"colab-df-convert\" onclick=\"convertToInteractive('df-fdf6331a-509f-432d-9eb4-e83b2b7264b3')\"\n",
              "              title=\"Convert this dataframe to an interactive table.\"\n",
              "              style=\"display:none;\">\n",
              "        \n",
              "  <svg xmlns=\"http://www.w3.org/2000/svg\" height=\"24px\"viewBox=\"0 0 24 24\"\n",
              "       width=\"24px\">\n",
              "    <path d=\"M0 0h24v24H0V0z\" fill=\"none\"/>\n",
              "    <path d=\"M18.56 5.44l.94 2.06.94-2.06 2.06-.94-2.06-.94-.94-2.06-.94 2.06-2.06.94zm-11 1L8.5 8.5l.94-2.06 2.06-.94-2.06-.94L8.5 2.5l-.94 2.06-2.06.94zm10 10l.94 2.06.94-2.06 2.06-.94-2.06-.94-.94-2.06-.94 2.06-2.06.94z\"/><path d=\"M17.41 7.96l-1.37-1.37c-.4-.4-.92-.59-1.43-.59-.52 0-1.04.2-1.43.59L10.3 9.45l-7.72 7.72c-.78.78-.78 2.05 0 2.83L4 21.41c.39.39.9.59 1.41.59.51 0 1.02-.2 1.41-.59l7.78-7.78 2.81-2.81c.8-.78.8-2.07 0-2.86zM5.41 20L4 18.59l7.72-7.72 1.47 1.35L5.41 20z\"/>\n",
              "  </svg>\n",
              "      </button>\n",
              "      \n",
              "  <style>\n",
              "    .colab-df-container {\n",
              "      display:flex;\n",
              "      flex-wrap:wrap;\n",
              "      gap: 12px;\n",
              "    }\n",
              "\n",
              "    .colab-df-convert {\n",
              "      background-color: #E8F0FE;\n",
              "      border: none;\n",
              "      border-radius: 50%;\n",
              "      cursor: pointer;\n",
              "      display: none;\n",
              "      fill: #1967D2;\n",
              "      height: 32px;\n",
              "      padding: 0 0 0 0;\n",
              "      width: 32px;\n",
              "    }\n",
              "\n",
              "    .colab-df-convert:hover {\n",
              "      background-color: #E2EBFA;\n",
              "      box-shadow: 0px 1px 2px rgba(60, 64, 67, 0.3), 0px 1px 3px 1px rgba(60, 64, 67, 0.15);\n",
              "      fill: #174EA6;\n",
              "    }\n",
              "\n",
              "    [theme=dark] .colab-df-convert {\n",
              "      background-color: #3B4455;\n",
              "      fill: #D2E3FC;\n",
              "    }\n",
              "\n",
              "    [theme=dark] .colab-df-convert:hover {\n",
              "      background-color: #434B5C;\n",
              "      box-shadow: 0px 1px 3px 1px rgba(0, 0, 0, 0.15);\n",
              "      filter: drop-shadow(0px 1px 2px rgba(0, 0, 0, 0.3));\n",
              "      fill: #FFFFFF;\n",
              "    }\n",
              "  </style>\n",
              "\n",
              "      <script>\n",
              "        const buttonEl =\n",
              "          document.querySelector('#df-fdf6331a-509f-432d-9eb4-e83b2b7264b3 button.colab-df-convert');\n",
              "        buttonEl.style.display =\n",
              "          google.colab.kernel.accessAllowed ? 'block' : 'none';\n",
              "\n",
              "        async function convertToInteractive(key) {\n",
              "          const element = document.querySelector('#df-fdf6331a-509f-432d-9eb4-e83b2b7264b3');\n",
              "          const dataTable =\n",
              "            await google.colab.kernel.invokeFunction('convertToInteractive',\n",
              "                                                     [key], {});\n",
              "          if (!dataTable) return;\n",
              "\n",
              "          const docLinkHtml = 'Like what you see? Visit the ' +\n",
              "            '<a target=\"_blank\" href=https://colab.research.google.com/notebooks/data_table.ipynb>data table notebook</a>'\n",
              "            + ' to learn more about interactive tables.';\n",
              "          element.innerHTML = '';\n",
              "          dataTable['output_type'] = 'display_data';\n",
              "          await google.colab.output.renderOutput(dataTable, element);\n",
              "          const docLink = document.createElement('div');\n",
              "          docLink.innerHTML = docLinkHtml;\n",
              "          element.appendChild(docLink);\n",
              "        }\n",
              "      </script>\n",
              "    </div>\n",
              "  </div>\n",
              "  "
            ]
          },
          "metadata": {},
          "execution_count": 11
        }
      ]
    },
    {
      "cell_type": "code",
      "source": [
        "from sklearn.decomposition import PCA\n",
        "\n",
        "num_components = 10\n",
        "\n",
        "pca = PCA(n_components=num_components)\n",
        "\n",
        "pca.fit(X_scaled)"
      ],
      "metadata": {
        "colab": {
          "base_uri": "https://localhost:8080/"
        },
        "id": "PcdP89ScWqp4",
        "outputId": "4a0251b3-e927-4340-99dc-724698119a60"
      },
      "execution_count": 12,
      "outputs": [
        {
          "output_type": "execute_result",
          "data": {
            "text/plain": [
              "PCA(n_components=10)"
            ]
          },
          "metadata": {},
          "execution_count": 12
        }
      ]
    },
    {
      "cell_type": "markdown",
      "source": [
        "## Analyse the results"
      ],
      "metadata": {
        "id": "EXQrDRUE2NVT"
      }
    },
    {
      "cell_type": "markdown",
      "source": [
        "### Explained variance ratio"
      ],
      "metadata": {
        "id": "Jv0xjsSg2SCv"
      }
    },
    {
      "cell_type": "code",
      "source": [
        "pca.explained_variance_ratio_.round(2)"
      ],
      "metadata": {
        "id": "u0ipuGWfh5gg",
        "colab": {
          "base_uri": "https://localhost:8080/"
        },
        "outputId": "76369ab2-23d2-4e52-c461-de8eb6e20abf"
      },
      "execution_count": 13,
      "outputs": [
        {
          "output_type": "execute_result",
          "data": {
            "text/plain": [
              "array([0.32, 0.24, 0.16, 0.11, 0.07, 0.05, 0.04, 0.01, 0.01, 0.  ])"
            ]
          },
          "metadata": {},
          "execution_count": 13
        }
      ]
    },
    {
      "cell_type": "code",
      "source": [
        "pca.explained_variance_ratio_.cumsum().round(2)"
      ],
      "metadata": {
        "colab": {
          "base_uri": "https://localhost:8080/"
        },
        "id": "qNcQ9gTG2c2k",
        "outputId": "e8bbe8d6-a038-43a8-dc6d-da8e2f9e272a"
      },
      "execution_count": 14,
      "outputs": [
        {
          "output_type": "execute_result",
          "data": {
            "text/plain": [
              "array([0.32, 0.56, 0.71, 0.82, 0.89, 0.94, 0.98, 0.99, 1.  , 1.  ])"
            ]
          },
          "metadata": {},
          "execution_count": 14
        }
      ]
    },
    {
      "cell_type": "markdown",
      "source": [
        "### Scree Plot"
      ],
      "metadata": {
        "id": "6j14gpHt2qXf"
      }
    },
    {
      "cell_type": "code",
      "source": [
        "display_scree_plot(pca)"
      ],
      "metadata": {
        "colab": {
          "base_uri": "https://localhost:8080/",
          "height": 295
        },
        "id": "06wFsk9a2hWH",
        "outputId": "f4d3a7fa-befe-4092-ac76-fcc4a8d62756"
      },
      "execution_count": 15,
      "outputs": [
        {
          "output_type": "display_data",
          "data": {
            "text/plain": [
              "<Figure size 432x288 with 1 Axes>"
            ],
            "image/png": "[encoded data removed]"
          },
          "metadata": {
            "needs_background": "light"
          }
        }
      ]
    },
    {
      "cell_type": "code",
      "source": [
        "pc1 = pca.components_[0]\n",
        "pc2 = pca.components_[1]\n",
        "pc3 = pca.components_[2]\n",
        "# etc"
      ],
      "metadata": {
        "id": "oY4FhTun2vH2"
      },
      "execution_count": 17,
      "outputs": []
    },
    {
      "cell_type": "code",
      "source": [
        "X.columns"
      ],
      "metadata": {
        "colab": {
          "base_uri": "https://localhost:8080/"
        },
        "id": "CMTjZxVj-GwA",
        "outputId": "d3cc133a-f11c-475c-a9b8-a42e7911d77b"
      },
      "execution_count": 18,
      "outputs": [
        {
          "output_type": "execute_result",
          "data": {
            "text/plain": [
              "Index(['teaching', 'international', 'research', 'citations', 'income',\n",
              "       'num_students', 'international%', 'student_staff_ratio', 'female%',\n",
              "       'male%'],\n",
              "      dtype='object')"
            ]
          },
          "metadata": {},
          "execution_count": 18
        }
      ]
    },
    {
      "cell_type": "code",
      "source": [
        "pc1"
      ],
      "metadata": {
        "colab": {
          "base_uri": "https://localhost:8080/"
        },
        "id": "TO9CcGlm-OiI",
        "outputId": "3469c577-757e-41ce-d23a-872da7c44d5f"
      },
      "execution_count": 19,
      "outputs": [
        {
          "output_type": "execute_result",
          "data": {
            "text/plain": [
              "array([ 0.44602246,  0.41763286,  0.47918623,  0.4372045 ,  0.17746079,\n",
              "       -0.06111775,  0.39562507, -0.0565289 ,  0.07394972, -0.07394972])"
            ]
          },
          "metadata": {},
          "execution_count": 19
        }
      ]
    },
    {
      "cell_type": "code",
      "source": [
        "pc2"
      ],
      "metadata": {
        "colab": {
          "base_uri": "https://localhost:8080/"
        },
        "id": "eE8gW-lB-Xf5",
        "outputId": "392741a7-9d96-4ccb-c6b5-b8dbb713fcf1"
      },
      "execution_count": 20,
      "outputs": [
        {
          "output_type": "execute_result",
          "data": {
            "text/plain": [
              "array([-0.17388542,  0.17493695, -0.14625   ,  0.0530956 , -0.28297188,\n",
              "        0.2070367 ,  0.09335706,  0.21899687,  0.60635809, -0.60635809])"
            ]
          },
          "metadata": {},
          "execution_count": 20
        }
      ]
    },
    {
      "cell_type": "markdown",
      "source": [
        "### Correlation Circle"
      ],
      "metadata": {
        "id": "kQfNNexr-fPu"
      }
    },
    {
      "cell_type": "code",
      "source": [
        "# Generate a correlation circle\n",
        "pcs = pca.components_\n",
        "display_circles(pcs, num_components, pca, [(0, 1)], labels=np.array(X.columns), )"
      ],
      "metadata": {
        "colab": {
          "base_uri": "https://localhost:8080/",
          "height": 621
        },
        "id": "-KWG2fli-YBP",
        "outputId": "649ba5e5-8d44-4cbf-e032-e2873e6c4f9c"
      },
      "execution_count": 21,
      "outputs": [
        {
          "output_type": "display_data",
          "data": {
            "text/plain": [
              "<Figure size 720x720 with 1 Axes>"
            ],
            "image/png": "[encoded data removed]"
          },
          "metadata": {
            "needs_background": "light"
          }
        }
      ]
    },
    {
      "cell_type": "code",
      "source": [
        "# Generate a correlation circle\n",
        "pcs = pca.components_ \n",
        "display_circles(pcs, num_components, pca, [(1,2)], labels = np.array(X.columns),) "
      ],
      "metadata": {
        "colab": {
          "base_uri": "https://localhost:8080/",
          "height": 621
        },
        "id": "CMCJGdRj_Buh",
        "outputId": "4d2baa1f-5acb-4166-a143-226590d3bacf"
      },
      "execution_count": 22,
      "outputs": [
        {
          "output_type": "display_data",
          "data": {
            "text/plain": [
              "<Figure size 720x720 with 1 Axes>"
            ],
            "image/png": "[encoded data removed]"
          },
          "metadata": {
            "needs_background": "light"
          }
        }
      ]
    },
    {
      "cell_type": "markdown",
      "source": [
        "### Individuals Factor Map"
      ],
      "metadata": {
        "id": "NUe-LuT1Jo2A"
      }
    },
    {
      "cell_type": "code",
      "source": [
        "# Transform the original scaled data to the new vector space\n",
        "X_projected = pca.transform(X_scaled) \n",
        "\n",
        "# Display a scatter plot of the data points in this new vector space\n",
        "display_factorial_planes(X_projected, num_components, pca, [(0,1)])\n",
        "plt.show()"
      ],
      "metadata": {
        "colab": {
          "base_uri": "https://localhost:8080/",
          "height": 404
        },
        "id": "4owf9Ce4AqLo",
        "outputId": "d78e8e45-8353-4fca-9965-cbc1d6e76fda"
      },
      "execution_count": 23,
      "outputs": [
        {
          "output_type": "display_data",
          "data": {
            "text/plain": [
              "<Figure size 504x432 with 1 Axes>"
            ],
            "image/png": "[encoded data removed]"
          },
          "metadata": {
            "needs_background": "light"
          }
        }
      ]
    },
    {
      "cell_type": "code",
      "source": [
        "# Take a copy of the data an add a new column for the banding\n",
        "classed_data = original_data.copy()\n",
        "append_class(classed_data, 'rank_band','world_rank',[0,11,101,1000],['10','100','1000'])\n",
        "\n",
        "# Get a list of the new bandings that we can pass to the plot\n",
        "classed_data = classed_data.reset_index()\n",
        "rank_band = [classed_data.loc[uni_id, \"rank_band\"] for uni_id in range(0,len(X_scaled))]"
      ],
      "metadata": {
        "id": "57BAFq8mJ3Hv"
      },
      "execution_count": 24,
      "outputs": []
    },
    {
      "cell_type": "code",
      "source": [
        "# Transform the original scaled data to the new vector space and display data points\n",
        "X_projected = pca.transform(X_scaled)\n",
        "display_factorial_planes(X_projected, num_components, pca, [(0,1)], illustrative_var = rank_band, alpha = 0.5)"
      ],
      "metadata": {
        "colab": {
          "base_uri": "https://localhost:8080/",
          "height": 404
        },
        "id": "kvbQqBPGKp-K",
        "outputId": "8f3bbd12-d67d-4f00-b17c-44196484ef55"
      },
      "execution_count": 25,
      "outputs": [
        {
          "output_type": "display_data",
          "data": {
            "text/plain": [
              "<Figure size 504x432 with 1 Axes>"
            ],
            "image/png": "[encoded data removed]"
          },
          "metadata": {
            "needs_background": "light"
          }
        }
      ]
    },
    {
      "cell_type": "code",
      "source": [
        "X_projected = pca.transform(X_scaled)\n",
        "display_factorial_planes(X_projected, num_components, pca, [(1,2),(2,3),(3,4)], illustrative_var = rank_band, alpha = 0.5)"
      ],
      "metadata": {
        "colab": {
          "base_uri": "https://localhost:8080/",
          "height": 1000
        },
        "id": "VAsGxz0AKsG-",
        "outputId": "ab7a55ec-78de-47ee-fef7-de5ad2a65c9e"
      },
      "execution_count": 26,
      "outputs": [
        {
          "output_type": "display_data",
          "data": {
            "text/plain": [
              "<Figure size 504x432 with 1 Axes>"
            ],
            "image/png": "[encoded data removed]"
          },
          "metadata": {
            "needs_background": "light"
          }
        },
        {
          "output_type": "display_data",
          "data": {
            "text/plain": [
              "<Figure size 504x432 with 1 Axes>"
            ],
            "image/png": "[encoded data removed]"
          },
          "metadata": {
            "needs_background": "light"
          }
        },
        {
          "output_type": "display_data",
          "data": {
            "text/plain": [
              "<Figure size 504x432 with 1 Axes>"
            ],
            "image/png": "[encoded data removed]"
          },
          "metadata": {
            "needs_background": "light"
          }
        }
      ]
    },
    {
      "cell_type": "code",
      "source": [],
      "metadata": {
        "id": "jg8LvKhGK4wJ"
      },
      "execution_count": null,
      "outputs": []
    }
  ]
}