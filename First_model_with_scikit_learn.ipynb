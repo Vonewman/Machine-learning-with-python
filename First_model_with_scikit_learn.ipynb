{
  "nbformat": 4,
  "nbformat_minor": 0,
  "metadata": {
    "colab": {
      "name": "First model with scikit learn.ipynb",
      "provenance": [],
      "authorship_tag": "ABX9TyNxu1Dk/8tlnsCBiW/+shRz",
      "include_colab_link": true
    },
    "kernelspec": {
      "name": "python3",
      "display_name": "Python 3"
    },
    "language_info": {
      "name": "python"
    }
  },
  "cells": [
    {
      "cell_type": "markdown",
      "metadata": {
        "id": "view-in-github",
        "colab_type": "text"
      },
      "source": [
        "<a href=\"https://colab.research.google.com/github/Vonewman/Machine-learning-with-python/blob/main/First_model_with_scikit_learn.ipynb\" target=\"_parent\"><img src=\"https://colab.research.google.com/assets/colab-badge.svg\" alt=\"Open In Colab\"/></a>"
      ]
    },
    {
      "cell_type": "markdown",
      "source": [
        "# First model with scikit-learn\n",
        "\n",
        "In this notebook, we present how to build predictive models on tabular\n",
        "datasets, with only numerical features.\n",
        "\n",
        "In particular we will highlight:\n",
        "\n",
        "* the scikit-learn API: `.fit(X, y)`/`.predict(X)`/`.score(X, y)`;\n",
        "* how to evaluate the generalization performance of a model with a train-test\n",
        "  split.\n",
        "\n",
        "## Loading the dataset with Pandas\n",
        "\n",
        "We will use the same dataset \"adult_census\" described in the previous\n",
        "notebook. For more details about the dataset see\n",
        "<http://www.openml.org/d/1590>.\n",
        "\n",
        "Numerical data is the most natural type of data used in machine learning and\n",
        "can (almost) directly be fed into predictive models. We will load a\n",
        "subset of the original data with only the numerical columns."
      ],
      "metadata": {
        "id": "MhQS8c7jYUZ9"
      }
    },
    {
      "cell_type": "code",
      "execution_count": 2,
      "metadata": {
        "id": "2P7M_R4tYN_4"
      },
      "outputs": [],
      "source": [
        "import pandas as pd\n",
        "\n",
        "adult_census = pd.read_csv(\"adult-census-numeric.csv\")"
      ]
    },
    {
      "cell_type": "markdown",
      "source": [
        "Let's have a look at the first records of this dataframe:"
      ],
      "metadata": {
        "id": "XElVt0l4cHEr"
      }
    },
    {
      "cell_type": "code",
      "source": [
        "adult_census.head()"
      ],
      "metadata": {
        "id": "7TOJBll0ZwvA",
        "colab": {
          "base_uri": "https://localhost:8080/",
          "height": 206
        },
        "outputId": "0764caa3-ed3e-4fbe-e8a5-e122cde61bf7"
      },
      "execution_count": 3,
      "outputs": [
        {
          "output_type": "execute_result",
          "data": {
            "text/plain": [
              "   age  capital-gain  capital-loss  hours-per-week   class\n",
              "0   41             0             0              92   <=50K\n",
              "1   48             0             0              40   <=50K\n",
              "2   60             0             0              25   <=50K\n",
              "3   37             0             0              45   <=50K\n",
              "4   73          3273             0              40   <=50K"
            ],
            "text/html": [
              "\n",
              "  <div id=\"df-832089d5-240f-409f-8da0-bed41dab5fe8\">\n",
              "    <div class=\"colab-df-container\">\n",
              "      <div>\n",
              "<style scoped>\n",
              "    .dataframe tbody tr th:only-of-type {\n",
              "        vertical-align: middle;\n",
              "    }\n",
              "\n",
              "    .dataframe tbody tr th {\n",
              "        vertical-align: top;\n",
              "    }\n",
              "\n",
              "    .dataframe thead th {\n",
              "        text-align: right;\n",
              "    }\n",
              "</style>\n",
              "<table border=\"1\" class=\"dataframe\">\n",
              "  <thead>\n",
              "    <tr style=\"text-align: right;\">\n",
              "      <th></th>\n",
              "      <th>age</th>\n",
              "      <th>capital-gain</th>\n",
              "      <th>capital-loss</th>\n",
              "      <th>hours-per-week</th>\n",
              "      <th>class</th>\n",
              "    </tr>\n",
              "  </thead>\n",
              "  <tbody>\n",
              "    <tr>\n",
              "      <th>0</th>\n",
              "      <td>41</td>\n",
              "      <td>0</td>\n",
              "      <td>0</td>\n",
              "      <td>92</td>\n",
              "      <td>&lt;=50K</td>\n",
              "    </tr>\n",
              "    <tr>\n",
              "      <th>1</th>\n",
              "      <td>48</td>\n",
              "      <td>0</td>\n",
              "      <td>0</td>\n",
              "      <td>40</td>\n",
              "      <td>&lt;=50K</td>\n",
              "    </tr>\n",
              "    <tr>\n",
              "      <th>2</th>\n",
              "      <td>60</td>\n",
              "      <td>0</td>\n",
              "      <td>0</td>\n",
              "      <td>25</td>\n",
              "      <td>&lt;=50K</td>\n",
              "    </tr>\n",
              "    <tr>\n",
              "      <th>3</th>\n",
              "      <td>37</td>\n",
              "      <td>0</td>\n",
              "      <td>0</td>\n",
              "      <td>45</td>\n",
              "      <td>&lt;=50K</td>\n",
              "    </tr>\n",
              "    <tr>\n",
              "      <th>4</th>\n",
              "      <td>73</td>\n",
              "      <td>3273</td>\n",
              "      <td>0</td>\n",
              "      <td>40</td>\n",
              "      <td>&lt;=50K</td>\n",
              "    </tr>\n",
              "  </tbody>\n",
              "</table>\n",
              "</div>\n",
              "      <button class=\"colab-df-convert\" onclick=\"convertToInteractive('df-832089d5-240f-409f-8da0-bed41dab5fe8')\"\n",
              "              title=\"Convert this dataframe to an interactive table.\"\n",
              "              style=\"display:none;\">\n",
              "        \n",
              "  <svg xmlns=\"http://www.w3.org/2000/svg\" height=\"24px\"viewBox=\"0 0 24 24\"\n",
              "       width=\"24px\">\n",
              "    <path d=\"M0 0h24v24H0V0z\" fill=\"none\"/>\n",
              "    <path d=\"M18.56 5.44l.94 2.06.94-2.06 2.06-.94-2.06-.94-.94-2.06-.94 2.06-2.06.94zm-11 1L8.5 8.5l.94-2.06 2.06-.94-2.06-.94L8.5 2.5l-.94 2.06-2.06.94zm10 10l.94 2.06.94-2.06 2.06-.94-2.06-.94-.94-2.06-.94 2.06-2.06.94z\"/><path d=\"M17.41 7.96l-1.37-1.37c-.4-.4-.92-.59-1.43-.59-.52 0-1.04.2-1.43.59L10.3 9.45l-7.72 7.72c-.78.78-.78 2.05 0 2.83L4 21.41c.39.39.9.59 1.41.59.51 0 1.02-.2 1.41-.59l7.78-7.78 2.81-2.81c.8-.78.8-2.07 0-2.86zM5.41 20L4 18.59l7.72-7.72 1.47 1.35L5.41 20z\"/>\n",
              "  </svg>\n",
              "      </button>\n",
              "      \n",
              "  <style>\n",
              "    .colab-df-container {\n",
              "      display:flex;\n",
              "      flex-wrap:wrap;\n",
              "      gap: 12px;\n",
              "    }\n",
              "\n",
              "    .colab-df-convert {\n",
              "      background-color: #E8F0FE;\n",
              "      border: none;\n",
              "      border-radius: 50%;\n",
              "      cursor: pointer;\n",
              "      display: none;\n",
              "      fill: #1967D2;\n",
              "      height: 32px;\n",
              "      padding: 0 0 0 0;\n",
              "      width: 32px;\n",
              "    }\n",
              "\n",
              "    .colab-df-convert:hover {\n",
              "      background-color: #E2EBFA;\n",
              "      box-shadow: 0px 1px 2px rgba(60, 64, 67, 0.3), 0px 1px 3px 1px rgba(60, 64, 67, 0.15);\n",
              "      fill: #174EA6;\n",
              "    }\n",
              "\n",
              "    [theme=dark] .colab-df-convert {\n",
              "      background-color: #3B4455;\n",
              "      fill: #D2E3FC;\n",
              "    }\n",
              "\n",
              "    [theme=dark] .colab-df-convert:hover {\n",
              "      background-color: #434B5C;\n",
              "      box-shadow: 0px 1px 3px 1px rgba(0, 0, 0, 0.15);\n",
              "      filter: drop-shadow(0px 1px 2px rgba(0, 0, 0, 0.3));\n",
              "      fill: #FFFFFF;\n",
              "    }\n",
              "  </style>\n",
              "\n",
              "      <script>\n",
              "        const buttonEl =\n",
              "          document.querySelector('#df-832089d5-240f-409f-8da0-bed41dab5fe8 button.colab-df-convert');\n",
              "        buttonEl.style.display =\n",
              "          google.colab.kernel.accessAllowed ? 'block' : 'none';\n",
              "\n",
              "        async function convertToInteractive(key) {\n",
              "          const element = document.querySelector('#df-832089d5-240f-409f-8da0-bed41dab5fe8');\n",
              "          const dataTable =\n",
              "            await google.colab.kernel.invokeFunction('convertToInteractive',\n",
              "                                                     [key], {});\n",
              "          if (!dataTable) return;\n",
              "\n",
              "          const docLinkHtml = 'Like what you see? Visit the ' +\n",
              "            '<a target=\"_blank\" href=https://colab.research.google.com/notebooks/data_table.ipynb>data table notebook</a>'\n",
              "            + ' to learn more about interactive tables.';\n",
              "          element.innerHTML = '';\n",
              "          dataTable['output_type'] = 'display_data';\n",
              "          await google.colab.output.renderOutput(dataTable, element);\n",
              "          const docLink = document.createElement('div');\n",
              "          docLink.innerHTML = docLinkHtml;\n",
              "          element.appendChild(docLink);\n",
              "        }\n",
              "      </script>\n",
              "    </div>\n",
              "  </div>\n",
              "  "
            ]
          },
          "metadata": {},
          "execution_count": 3
        }
      ]
    },
    {
      "cell_type": "markdown",
      "source": [
        "We see that this CSV file contains all information: the target that we would\n",
        "like to predict (i.e. `\"class\"`) and the data that we want to use to train\n",
        "our predictive model (i.e. the remaining columns). The first step is to\n",
        "separate columns to get on one side the target and on the other side the\n",
        "data.\n",
        "\n",
        "## Separate the data and the target"
      ],
      "metadata": {
        "id": "vEZVFCsJcZJl"
      }
    },
    {
      "cell_type": "code",
      "source": [
        "target_name = \"class\"\n",
        "target = adult_census[target_name]\n",
        "target"
      ],
      "metadata": {
        "colab": {
          "base_uri": "https://localhost:8080/"
        },
        "id": "z5nOspvecK_M",
        "outputId": "2c2bcd46-84de-4d4a-d52a-e62ce0e5c196"
      },
      "execution_count": 4,
      "outputs": [
        {
          "output_type": "execute_result",
          "data": {
            "text/plain": [
              "0         <=50K\n",
              "1         <=50K\n",
              "2         <=50K\n",
              "3         <=50K\n",
              "4         <=50K\n",
              "          ...  \n",
              "39068     <=50K\n",
              "39069     <=50K\n",
              "39070      >50K\n",
              "39071     <=50K\n",
              "39072      >50K\n",
              "Name: class, Length: 39073, dtype: object"
            ]
          },
          "metadata": {},
          "execution_count": 4
        }
      ]
    },
    {
      "cell_type": "code",
      "source": [
        "data = adult_census.drop(columns=[target_name, ])\n",
        "data.head()"
      ],
      "metadata": {
        "colab": {
          "base_uri": "https://localhost:8080/",
          "height": 206
        },
        "id": "DSzFae0dcqPU",
        "outputId": "e0b10ed8-650f-48b0-f826-ef20e793d9d9"
      },
      "execution_count": 5,
      "outputs": [
        {
          "output_type": "execute_result",
          "data": {
            "text/plain": [
              "   age  capital-gain  capital-loss  hours-per-week\n",
              "0   41             0             0              92\n",
              "1   48             0             0              40\n",
              "2   60             0             0              25\n",
              "3   37             0             0              45\n",
              "4   73          3273             0              40"
            ],
            "text/html": [
              "\n",
              "  <div id=\"df-494454cd-b529-4389-bb70-a99d4cda68d0\">\n",
              "    <div class=\"colab-df-container\">\n",
              "      <div>\n",
              "<style scoped>\n",
              "    .dataframe tbody tr th:only-of-type {\n",
              "        vertical-align: middle;\n",
              "    }\n",
              "\n",
              "    .dataframe tbody tr th {\n",
              "        vertical-align: top;\n",
              "    }\n",
              "\n",
              "    .dataframe thead th {\n",
              "        text-align: right;\n",
              "    }\n",
              "</style>\n",
              "<table border=\"1\" class=\"dataframe\">\n",
              "  <thead>\n",
              "    <tr style=\"text-align: right;\">\n",
              "      <th></th>\n",
              "      <th>age</th>\n",
              "      <th>capital-gain</th>\n",
              "      <th>capital-loss</th>\n",
              "      <th>hours-per-week</th>\n",
              "    </tr>\n",
              "  </thead>\n",
              "  <tbody>\n",
              "    <tr>\n",
              "      <th>0</th>\n",
              "      <td>41</td>\n",
              "      <td>0</td>\n",
              "      <td>0</td>\n",
              "      <td>92</td>\n",
              "    </tr>\n",
              "    <tr>\n",
              "      <th>1</th>\n",
              "      <td>48</td>\n",
              "      <td>0</td>\n",
              "      <td>0</td>\n",
              "      <td>40</td>\n",
              "    </tr>\n",
              "    <tr>\n",
              "      <th>2</th>\n",
              "      <td>60</td>\n",
              "      <td>0</td>\n",
              "      <td>0</td>\n",
              "      <td>25</td>\n",
              "    </tr>\n",
              "    <tr>\n",
              "      <th>3</th>\n",
              "      <td>37</td>\n",
              "      <td>0</td>\n",
              "      <td>0</td>\n",
              "      <td>45</td>\n",
              "    </tr>\n",
              "    <tr>\n",
              "      <th>4</th>\n",
              "      <td>73</td>\n",
              "      <td>3273</td>\n",
              "      <td>0</td>\n",
              "      <td>40</td>\n",
              "    </tr>\n",
              "  </tbody>\n",
              "</table>\n",
              "</div>\n",
              "      <button class=\"colab-df-convert\" onclick=\"convertToInteractive('df-494454cd-b529-4389-bb70-a99d4cda68d0')\"\n",
              "              title=\"Convert this dataframe to an interactive table.\"\n",
              "              style=\"display:none;\">\n",
              "        \n",
              "  <svg xmlns=\"http://www.w3.org/2000/svg\" height=\"24px\"viewBox=\"0 0 24 24\"\n",
              "       width=\"24px\">\n",
              "    <path d=\"M0 0h24v24H0V0z\" fill=\"none\"/>\n",
              "    <path d=\"M18.56 5.44l.94 2.06.94-2.06 2.06-.94-2.06-.94-.94-2.06-.94 2.06-2.06.94zm-11 1L8.5 8.5l.94-2.06 2.06-.94-2.06-.94L8.5 2.5l-.94 2.06-2.06.94zm10 10l.94 2.06.94-2.06 2.06-.94-2.06-.94-.94-2.06-.94 2.06-2.06.94z\"/><path d=\"M17.41 7.96l-1.37-1.37c-.4-.4-.92-.59-1.43-.59-.52 0-1.04.2-1.43.59L10.3 9.45l-7.72 7.72c-.78.78-.78 2.05 0 2.83L4 21.41c.39.39.9.59 1.41.59.51 0 1.02-.2 1.41-.59l7.78-7.78 2.81-2.81c.8-.78.8-2.07 0-2.86zM5.41 20L4 18.59l7.72-7.72 1.47 1.35L5.41 20z\"/>\n",
              "  </svg>\n",
              "      </button>\n",
              "      \n",
              "  <style>\n",
              "    .colab-df-container {\n",
              "      display:flex;\n",
              "      flex-wrap:wrap;\n",
              "      gap: 12px;\n",
              "    }\n",
              "\n",
              "    .colab-df-convert {\n",
              "      background-color: #E8F0FE;\n",
              "      border: none;\n",
              "      border-radius: 50%;\n",
              "      cursor: pointer;\n",
              "      display: none;\n",
              "      fill: #1967D2;\n",
              "      height: 32px;\n",
              "      padding: 0 0 0 0;\n",
              "      width: 32px;\n",
              "    }\n",
              "\n",
              "    .colab-df-convert:hover {\n",
              "      background-color: #E2EBFA;\n",
              "      box-shadow: 0px 1px 2px rgba(60, 64, 67, 0.3), 0px 1px 3px 1px rgba(60, 64, 67, 0.15);\n",
              "      fill: #174EA6;\n",
              "    }\n",
              "\n",
              "    [theme=dark] .colab-df-convert {\n",
              "      background-color: #3B4455;\n",
              "      fill: #D2E3FC;\n",
              "    }\n",
              "\n",
              "    [theme=dark] .colab-df-convert:hover {\n",
              "      background-color: #434B5C;\n",
              "      box-shadow: 0px 1px 3px 1px rgba(0, 0, 0, 0.15);\n",
              "      filter: drop-shadow(0px 1px 2px rgba(0, 0, 0, 0.3));\n",
              "      fill: #FFFFFF;\n",
              "    }\n",
              "  </style>\n",
              "\n",
              "      <script>\n",
              "        const buttonEl =\n",
              "          document.querySelector('#df-494454cd-b529-4389-bb70-a99d4cda68d0 button.colab-df-convert');\n",
              "        buttonEl.style.display =\n",
              "          google.colab.kernel.accessAllowed ? 'block' : 'none';\n",
              "\n",
              "        async function convertToInteractive(key) {\n",
              "          const element = document.querySelector('#df-494454cd-b529-4389-bb70-a99d4cda68d0');\n",
              "          const dataTable =\n",
              "            await google.colab.kernel.invokeFunction('convertToInteractive',\n",
              "                                                     [key], {});\n",
              "          if (!dataTable) return;\n",
              "\n",
              "          const docLinkHtml = 'Like what you see? Visit the ' +\n",
              "            '<a target=\"_blank\" href=https://colab.research.google.com/notebooks/data_table.ipynb>data table notebook</a>'\n",
              "            + ' to learn more about interactive tables.';\n",
              "          element.innerHTML = '';\n",
              "          dataTable['output_type'] = 'display_data';\n",
              "          await google.colab.output.renderOutput(dataTable, element);\n",
              "          const docLink = document.createElement('div');\n",
              "          docLink.innerHTML = docLinkHtml;\n",
              "          element.appendChild(docLink);\n",
              "        }\n",
              "      </script>\n",
              "    </div>\n",
              "  </div>\n",
              "  "
            ]
          },
          "metadata": {},
          "execution_count": 5
        }
      ]
    },
    {
      "cell_type": "code",
      "source": [
        "print(f\"The dataset contains {data.shape[0]} samples and \"\n",
        "      f\"{data.shape[1]} features\")"
      ],
      "metadata": {
        "colab": {
          "base_uri": "https://localhost:8080/"
        },
        "id": "T2PwkUTXesyL",
        "outputId": "0fa5fa2e-b4b0-4d02-895d-641999bf25cf"
      },
      "execution_count": 6,
      "outputs": [
        {
          "output_type": "stream",
          "name": "stdout",
          "text": [
            "The dataset contains 39073 samples and 4 features\n"
          ]
        }
      ]
    },
    {
      "cell_type": "markdown",
      "source": [
        "## Fit a model and make predictions\n",
        "\n",
        "We will build a classification model using the \"K-nearest neighbors\"\n",
        "strategy. To predict the target of a new sample, a k-nearest neighbors takes\n",
        "into account its `k` closest samples in the training set and predicts the\n",
        "majority target of these samples.\n",
        "\n",
        "<div class=\"admonition caution alert alert-warning\">\n",
        "<p class=\"first admonition-title\" style=\"font-weight: bold;\">Caution!</p>\n",
        "<p class=\"last\">We use a K-nearest neighbors here. However, be aware that it is seldom useful\n",
        "in practice. We use it because it is an intuitive algorithm. In the next\n",
        "notebook, we will introduce better models.</p>\n",
        "</div>\n",
        "\n",
        "The `fit` method is called to train the model from the input (features) and\n",
        "target data."
      ],
      "metadata": {
        "id": "gCeUFhz6fPHG"
      }
    },
    {
      "cell_type": "code",
      "source": [
        "from sklearn.neighbors import KNeighborsClassifier\n",
        "\n",
        "model = KNeighborsClassifier()\n",
        "model.fit(data, target)"
      ],
      "metadata": {
        "colab": {
          "base_uri": "https://localhost:8080/"
        },
        "id": "i30SndYsfJx2",
        "outputId": "133277f7-eeb7-4bf5-deb9-aa9d9e1d3641"
      },
      "execution_count": 7,
      "outputs": [
        {
          "output_type": "execute_result",
          "data": {
            "text/plain": [
              "KNeighborsClassifier()"
            ]
          },
          "metadata": {},
          "execution_count": 7
        }
      ]
    },
    {
      "cell_type": "markdown",
      "source": [
        "Learning can be represented as follows:\n",
        "\n",
        "![Predictor fit diagram](../figures/api_diagram-predictor.fit.svg)\n",
        "\n",
        "The method `fit` is composed of two elements: (i) a **learning algorithm**\n",
        "and (ii) some **model states**. The learning algorithm takes the training\n",
        "data and training target as input and sets the model states. These model\n",
        "states will be used later to either predict (for classifiers and regressors)\n",
        "or transform data (for transformers).\n",
        "\n",
        "Both the learning algorithm and the type of model states are specific to each\n",
        "type of model."
      ],
      "metadata": {
        "id": "SyYJEZNGfrHE"
      }
    },
    {
      "cell_type": "markdown",
      "source": [
        "Let's use our model to make some predictions using the same dataset."
      ],
      "metadata": {
        "id": "3SwtbTjlftvr"
      }
    },
    {
      "cell_type": "code",
      "source": [
        "target_predicted = model.predict(data)"
      ],
      "metadata": {
        "id": "cuZKS5bgfnK_"
      },
      "execution_count": 8,
      "outputs": []
    },
    {
      "cell_type": "markdown",
      "source": [
        "Let's now have a look at the computed predictions. For the sake of\n",
        "simplicity, we will look at the five first predicted targets."
      ],
      "metadata": {
        "id": "GKG9ouazldDV"
      }
    },
    {
      "cell_type": "code",
      "source": [
        "target_predicted[:5]"
      ],
      "metadata": {
        "colab": {
          "base_uri": "https://localhost:8080/"
        },
        "id": "jT2FZAaify69",
        "outputId": "e8c8ba4a-0a1c-44e7-dcdb-e6ae96bdb268"
      },
      "execution_count": 9,
      "outputs": [
        {
          "output_type": "execute_result",
          "data": {
            "text/plain": [
              "array([' >50K', ' <=50K', ' <=50K', ' <=50K', ' <=50K'], dtype=object)"
            ]
          },
          "metadata": {},
          "execution_count": 9
        }
      ]
    },
    {
      "cell_type": "markdown",
      "source": [
        "Indeed, we can compare these predictions to the actual data..."
      ],
      "metadata": {
        "id": "D-kct_2FlnTl"
      }
    },
    {
      "cell_type": "code",
      "source": [
        "target[:5]"
      ],
      "metadata": {
        "colab": {
          "base_uri": "https://localhost:8080/"
        },
        "id": "WgGTT6belih0",
        "outputId": "ffdafdcf-50b3-4a7a-cc2a-f3dc89455abf"
      },
      "execution_count": 10,
      "outputs": [
        {
          "output_type": "execute_result",
          "data": {
            "text/plain": [
              "0     <=50K\n",
              "1     <=50K\n",
              "2     <=50K\n",
              "3     <=50K\n",
              "4     <=50K\n",
              "Name: class, dtype: object"
            ]
          },
          "metadata": {},
          "execution_count": 10
        }
      ]
    },
    {
      "cell_type": "markdown",
      "source": [
        "...and we could even check if the predictions agree with the real targets:"
      ],
      "metadata": {
        "id": "GPxuENtblsp7"
      }
    },
    {
      "cell_type": "code",
      "source": [
        "target[:5] == target_predicted[:5]"
      ],
      "metadata": {
        "colab": {
          "base_uri": "https://localhost:8080/"
        },
        "id": "jdBizj-HlpmA",
        "outputId": "140ae590-1545-48ed-82f9-a057a6b20f59"
      },
      "execution_count": 11,
      "outputs": [
        {
          "output_type": "execute_result",
          "data": {
            "text/plain": [
              "0    False\n",
              "1     True\n",
              "2     True\n",
              "3     True\n",
              "4     True\n",
              "Name: class, dtype: bool"
            ]
          },
          "metadata": {},
          "execution_count": 11
        }
      ]
    },
    {
      "cell_type": "code",
      "source": [
        "print(f\"Number of correct prediction: \"\n",
        "      f\"{(target[:5] == target_predicted[:5]).sum()} / 5\")"
      ],
      "metadata": {
        "colab": {
          "base_uri": "https://localhost:8080/"
        },
        "id": "nwB8aLu0lvGl",
        "outputId": "8e07e25a-0201-4f1d-9203-bbaa1fcf94b7"
      },
      "execution_count": 12,
      "outputs": [
        {
          "output_type": "stream",
          "name": "stdout",
          "text": [
            "Number of correct prediction: 4 / 5\n"
          ]
        }
      ]
    },
    {
      "cell_type": "markdown",
      "source": [
        "Here, we see that our model makes a mistake when predicting for the first\n",
        "sample.\n",
        "\n",
        "To get a better assessment, we can compute the average success rate."
      ],
      "metadata": {
        "id": "v_AYcUjYl-GG"
      }
    },
    {
      "cell_type": "code",
      "source": [
        "(target == target_predicted).mean()"
      ],
      "metadata": {
        "colab": {
          "base_uri": "https://localhost:8080/"
        },
        "id": "C9LA8n_rlxsP",
        "outputId": "f7311810-4397-441b-f617-2bff9730fb54"
      },
      "execution_count": 13,
      "outputs": [
        {
          "output_type": "execute_result",
          "data": {
            "text/plain": [
              "0.8242776341719346"
            ]
          },
          "metadata": {},
          "execution_count": 13
        }
      ]
    },
    {
      "cell_type": "markdown",
      "source": [
        "This result means that the model makes a correct prediction for\n",
        "approximately 82 samples out of 100. Note that we used the same data\n",
        "to train and evaluate our model. Can this evaluation be trusted or is\n",
        "it to good to be true?\n",
        "\n",
        "## Train-test data split\n",
        "\n",
        "When building a machine learning model, it is important to evaluate the\n",
        "trained model on data that was not used to fit it, as **generalization** is\n",
        "more than memorization (meaning we want a rule that generalizes to new data,\n",
        "without comparing to data we memorized).\n",
        "It is harder to conclude on never-seen instances than on already seen ones.\n",
        "\n",
        "Correct evaluation is easily done by leaving out a subset of the data when\n",
        "training the model and using it afterwards for model evaluation.\n",
        "The data used to fit a model is called training data while the data used to\n",
        "assess a model is called testing data.\n",
        "\n",
        "We can load more data, which was actually left-out from the original data\n",
        "set."
      ],
      "metadata": {
        "id": "VC5TNWKjnaZ4"
      }
    },
    {
      "cell_type": "code",
      "source": [
        "adult_census_test = pd.read_csv('adult-census-numeric-test.csv')"
      ],
      "metadata": {
        "id": "RrlKiOPfnRbt"
      },
      "execution_count": 14,
      "outputs": []
    },
    {
      "cell_type": "markdown",
      "source": [
        "From this new data, we separate our input features and the target to predict,\n",
        "as in the beginning of this notebook."
      ],
      "metadata": {
        "id": "TR1W8J_3nkWY"
      }
    },
    {
      "cell_type": "code",
      "source": [
        "target_test = adult_census_test[target_name]\n",
        "data_test = adult_census_test.drop(columns=[target_name, ])"
      ],
      "metadata": {
        "id": "PN5ye-F9nhHw"
      },
      "execution_count": 15,
      "outputs": []
    },
    {
      "cell_type": "markdown",
      "source": [
        "We can check the number of features and samples available in this new set."
      ],
      "metadata": {
        "id": "fmNtfsgdnqXC"
      }
    },
    {
      "cell_type": "code",
      "source": [
        "print(f\"The testing dataset contains {data_test.shape[0]} samples and \"\n",
        "      f\"{data_test.shape[1]} features\")"
      ],
      "metadata": {
        "colab": {
          "base_uri": "https://localhost:8080/"
        },
        "id": "vjYOcpPSnmdZ",
        "outputId": "131ee1ad-1105-42a5-fc86-aa9168bc6ac0"
      },
      "execution_count": 16,
      "outputs": [
        {
          "output_type": "stream",
          "name": "stdout",
          "text": [
            "The testing dataset contains 9769 samples and 4 features\n"
          ]
        }
      ]
    },
    {
      "cell_type": "markdown",
      "source": [
        "Instead of computing the prediction and manually computing the average\n",
        "success rate, we can use the method `score`. When dealing with classifiers\n",
        "this method returns their performance metric."
      ],
      "metadata": {
        "id": "o1YRuyslnvbg"
      }
    },
    {
      "cell_type": "code",
      "source": [
        "accuracy = model.score(data_test, target_test)\n",
        "model_name = model.__class__.__name__\n",
        "\n",
        "print(f\"The test accuracy using a {model_name} is \"\n",
        "      f\"{accuracy:.3f}\")"
      ],
      "metadata": {
        "colab": {
          "base_uri": "https://localhost:8080/"
        },
        "id": "0eWYD26QnsQI",
        "outputId": "ddd86e9d-3db1-4bb1-fee8-60adda33ecf2"
      },
      "execution_count": 17,
      "outputs": [
        {
          "output_type": "stream",
          "name": "stdout",
          "text": [
            "The test accuracy using a KNeighborsClassifier is 0.804\n"
          ]
        }
      ]
    },
    {
      "cell_type": "markdown",
      "source": [
        "In this notebook we:\n",
        "\n",
        "* fitted a **k-nearest neighbors** model on a training dataset;\n",
        "* evaluated its generalization performance on the testing data;\n",
        "* introduced the scikit-learn API `.fit(X, y)` (to train a model),\n",
        "  `.predict(X)` (to make predictions) and `.score(X, y)`\n",
        "  (to evaluate a model)."
      ],
      "metadata": {
        "id": "XXLDPHhQn6ZO"
      }
    },
    {
      "cell_type": "code",
      "source": [
        ""
      ],
      "metadata": {
        "id": "tc7Gu98knxZB"
      },
      "execution_count": null,
      "outputs": []
    }
  ]
}